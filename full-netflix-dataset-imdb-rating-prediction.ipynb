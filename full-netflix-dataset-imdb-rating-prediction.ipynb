{
 "cells": [
  {
   "cell_type": "markdown",
   "id": "bd7bbf26",
   "metadata": {
    "id": "WH3VVM9e7A-_",
    "papermill": {
     "duration": 0.018004,
     "end_time": "2024-12-07T05:38:48.721377",
     "exception": false,
     "start_time": "2024-12-07T05:38:48.703373",
     "status": "completed"
    },
    "tags": []
   },
   "source": [
    "# **Problum statment**\n",
    "## Netflix Movies & TV Series"
   ]
  },
  {
   "cell_type": "markdown",
   "id": "d9cd946d",
   "metadata": {
    "id": "ZV7XsejN7RI2",
    "papermill": {
     "duration": 0.015723,
     "end_time": "2024-12-07T05:38:48.753502",
     "exception": false,
     "start_time": "2024-12-07T05:38:48.737779",
     "status": "completed"
    },
    "tags": []
   },
   "source": [
    "-- The Dtaset is about Daily-updated of the Netflix Movies & TV Series Dataset\n",
    "\n",
    "-- This dataset provides a comprehensive collection of all Movies and TV Series available on Netflix.\n",
    "\n",
    "-- In addition to basic information, it includes IMDb-specific data like IMDb ID, Average Rating, and Number of Votes.\n",
    "\n",
    "-- This dataset have 8 Columns and 15860 Rows."
   ]
  },
  {
   "cell_type": "markdown",
   "id": "d1e74994",
   "metadata": {
    "id": "Tj-wI1Wq_DEW",
    "papermill": {
     "duration": 0.014836,
     "end_time": "2024-12-07T05:38:48.784107",
     "exception": false,
     "start_time": "2024-12-07T05:38:48.769271",
     "status": "completed"
    },
    "tags": []
   },
   "source": [
    "**Column Heads:**\n",
    "\n",
    "-- **title**: The name of the movie or TV series.\n",
    "\n",
    "-- **type**: Specifies whether the title is a movie or a TV series.\n",
    "\n",
    "-- **genres**: The genre or genres associated with the title, such as drama, comedy,thriller, etc.\n",
    "\n",
    "-- **release year**: The year in which the title was released.\n",
    "\n",
    "-- **imdbID**: A unique identifier for the title on IMDb, which can be used to\n",
    "cross-reference or gather additional data from IMDb.\n",
    "\n",
    "-- **imdbAverageRating**: The average user rating for the title on IMDb, providing insight into its popularity or quality.\n",
    "\n",
    "-- **imdbNumVotes**: The total number of votes the title has received on IMDb, indicating how widely viewed or rated the title is.\n",
    "\n",
    "-- **availableCountries**: The countries where the title is available for streaming on Netflix."
   ]
  },
  {
   "cell_type": "markdown",
   "id": "b2d3f1c4",
   "metadata": {
    "id": "ABv6xpWiAgF-",
    "papermill": {
     "duration": 0.014835,
     "end_time": "2024-12-07T05:38:48.814180",
     "exception": false,
     "start_time": "2024-12-07T05:38:48.799345",
     "status": "completed"
    },
    "tags": []
   },
   "source": [
    "* **TARGET VARIABLE in this Dtaset is imdbAverageRating**"
   ]
  },
  {
   "cell_type": "markdown",
   "id": "7c87397b",
   "metadata": {
    "id": "KpC-a6oVA-i1",
    "papermill": {
     "duration": 0.01482,
     "end_time": "2024-12-07T05:38:48.844167",
     "exception": false,
     "start_time": "2024-12-07T05:38:48.829347",
     "status": "completed"
    },
    "tags": []
   },
   "source": [
    "**Goals**:\n",
    "\n",
    "1. **Optimize Content Offerings**:\n",
    "\n",
    "- Reasoning: By understanding factors that influence ratings (like genre, release year, etc.), Netflix can adjust its content strategy. This could involve investing in the production or acquisition of specific types of content that are likely to be well-received by viewers.\n",
    "\n",
    "2. **Enhance User Experience**:\n",
    "\n",
    " - Reasoning: Accurately predicting ratings can lead to better recommendations for users. This ensures viewers are presented with content aligned with their preferences, leading to increased satisfaction and engagement.\n",
    "\n",
    "3. **Inform Content Acquisition Strategies:**\n",
    "\n",
    "- Reasoning: Before investing in new movies or series, Netflix can use the model to estimate potential audience reception. This data-driven approach minimizes risk and maximizes the chances of acquiring successful content.\n",
    "\n",
    "4. **Improve Recommendation Systems**:\n",
    "\n",
    "- Reasoning: This dataset can be used to train recommendation algorithms that suggest relevant and engaging content to users. This is crucial for keeping viewers hooked and reducing churn.\n",
    "\n",
    "5. **Boost Audience Engagement:**\n",
    "\n",
    "- Reasoning: By providing viewers with high-quality, tailored content, Netflix aims to increase overall engagement. This translates to more watch time, higher user satisfaction, and a stronger brand presence.\n"
   ]
  },
  {
   "cell_type": "markdown",
   "id": "302ad8cd",
   "metadata": {
    "id": "qRKy33HuLaFp",
    "papermill": {
     "duration": 0.015446,
     "end_time": "2024-12-07T05:38:48.875158",
     "exception": false,
     "start_time": "2024-12-07T05:38:48.859712",
     "status": "completed"
    },
    "tags": []
   },
   "source": [
    "-- In essence, the overarching goal is to leverage insights from the data to make informed decisions about content creation, acquisition, and recommendation, ultimately enhancing the user experience and driving business success for Netflix.\n",
    "\n",
    "----"
   ]
  },
  {
   "cell_type": "markdown",
   "id": "96b2692e",
   "metadata": {
    "id": "Oxjlc_gHBq2F",
    "papermill": {
     "duration": 0.014925,
     "end_time": "2024-12-07T05:38:48.905789",
     "exception": false,
     "start_time": "2024-12-07T05:38:48.890864",
     "status": "completed"
    },
    "tags": []
   },
   "source": [
    "# Libraries"
   ]
  },
  {
   "cell_type": "code",
   "execution_count": 1,
   "id": "c61e0068",
   "metadata": {
    "execution": {
     "iopub.execute_input": "2024-12-07T05:38:48.940456Z",
     "iopub.status.busy": "2024-12-07T05:38:48.940078Z",
     "iopub.status.idle": "2024-12-07T05:38:52.149499Z",
     "shell.execute_reply": "2024-12-07T05:38:52.148155Z"
    },
    "id": "6iSsaOvWA_WN",
    "papermill": {
     "duration": 3.231617,
     "end_time": "2024-12-07T05:38:52.152305",
     "exception": false,
     "start_time": "2024-12-07T05:38:48.920688",
     "status": "completed"
    },
    "tags": []
   },
   "outputs": [],
   "source": [
    "import pandas as pd\n",
    "import numpy as np\n",
    "\n",
    "#Ploating\n",
    "import matplotlib.pyplot as plt\n",
    "import seaborn as sns\n",
    "\n",
    "#Emcoding\n",
    "from sklearn.preprocessing import LabelEncoder\n",
    "le=LabelEncoder()\n",
    "\n",
    "# x-y split\n",
    "from sklearn.model_selection import train_test_split\n",
    "\n",
    "#Scaling\n",
    "from sklearn.preprocessing import StandardScaler\n",
    "\n",
    "# Regression algorithms\n",
    "from sklearn.linear_model import LinearRegression, Ridge, Lasso, ElasticNet\n",
    "from sklearn.tree import DecisionTreeRegressor\n",
    "from sklearn.ensemble import RandomForestRegressor, GradientBoostingRegressor\n",
    "from sklearn.svm import SVR\n",
    "from sklearn.neighbors import KNeighborsRegressor\n",
    "from sklearn.neural_network import MLPRegressor  # Multi-layer perceptron regressor (MLP)\n",
    "\n",
    "#MSE AND MAE\n",
    "from sklearn.metrics import mean_absolute_error, mean_squared_error, r2_score\n",
    "from math import sqrt"
   ]
  },
  {
   "cell_type": "markdown",
   "id": "8d73e752",
   "metadata": {
    "id": "omN_T2qiCQgF",
    "papermill": {
     "duration": 0.015198,
     "end_time": "2024-12-07T05:38:52.183184",
     "exception": false,
     "start_time": "2024-12-07T05:38:52.167986",
     "status": "completed"
    },
    "tags": []
   },
   "source": [
    "# Loading Dataset"
   ]
  },
  {
   "cell_type": "code",
   "execution_count": 2,
   "id": "acfbbcc4",
   "metadata": {
    "execution": {
     "iopub.execute_input": "2024-12-07T05:38:52.215995Z",
     "iopub.status.busy": "2024-12-07T05:38:52.215309Z",
     "iopub.status.idle": "2024-12-07T05:38:52.427034Z",
     "shell.execute_reply": "2024-12-07T05:38:52.425973Z"
    },
    "id": "0BDpNwvICGpm",
    "outputId": "43a0cda5-2c76-4039-9bfc-fb9cde1c5727",
    "papermill": {
     "duration": 0.230959,
     "end_time": "2024-12-07T05:38:52.429273",
     "exception": false,
     "start_time": "2024-12-07T05:38:52.198314",
     "status": "completed"
    },
    "tags": []
   },
   "outputs": [
    {
     "data": {
      "text/html": [
       "<div>\n",
       "<style scoped>\n",
       "    .dataframe tbody tr th:only-of-type {\n",
       "        vertical-align: middle;\n",
       "    }\n",
       "\n",
       "    .dataframe tbody tr th {\n",
       "        vertical-align: top;\n",
       "    }\n",
       "\n",
       "    .dataframe thead th {\n",
       "        text-align: right;\n",
       "    }\n",
       "</style>\n",
       "<table border=\"1\" class=\"dataframe\">\n",
       "  <thead>\n",
       "    <tr style=\"text-align: right;\">\n",
       "      <th></th>\n",
       "      <th>title</th>\n",
       "      <th>type</th>\n",
       "      <th>genres</th>\n",
       "      <th>releaseYear</th>\n",
       "      <th>imdbId</th>\n",
       "      <th>imdbAverageRating</th>\n",
       "      <th>imdbNumVotes</th>\n",
       "      <th>availableCountries</th>\n",
       "    </tr>\n",
       "  </thead>\n",
       "  <tbody>\n",
       "    <tr>\n",
       "      <th>0</th>\n",
       "      <td>The Fifth Element</td>\n",
       "      <td>movie</td>\n",
       "      <td>Action, Adventure, Sci-Fi</td>\n",
       "      <td>1997.0</td>\n",
       "      <td>tt0119116</td>\n",
       "      <td>7.6</td>\n",
       "      <td>518358.0</td>\n",
       "      <td>AT, CH, DE</td>\n",
       "    </tr>\n",
       "    <tr>\n",
       "      <th>1</th>\n",
       "      <td>Kill Bill: Vol. 1</td>\n",
       "      <td>movie</td>\n",
       "      <td>Action, Crime, Thriller</td>\n",
       "      <td>2003.0</td>\n",
       "      <td>tt0266697</td>\n",
       "      <td>8.2</td>\n",
       "      <td>1225520.0</td>\n",
       "      <td>AE, AL, AO, AT, AU, AZ, BG, BH, BY, CA, CI, CM...</td>\n",
       "    </tr>\n",
       "    <tr>\n",
       "      <th>2</th>\n",
       "      <td>Jarhead</td>\n",
       "      <td>movie</td>\n",
       "      <td>Biography, Drama, War</td>\n",
       "      <td>2005.0</td>\n",
       "      <td>tt0418763</td>\n",
       "      <td>7.0</td>\n",
       "      <td>212222.0</td>\n",
       "      <td>AD, AE, AG, AL, AO, AT, AZ, BA, BG, BH, BM, BR...</td>\n",
       "    </tr>\n",
       "    <tr>\n",
       "      <th>3</th>\n",
       "      <td>Unforgiven</td>\n",
       "      <td>movie</td>\n",
       "      <td>Drama, Western</td>\n",
       "      <td>1992.0</td>\n",
       "      <td>tt0105695</td>\n",
       "      <td>8.2</td>\n",
       "      <td>445463.0</td>\n",
       "      <td>AU, BA, BG, CZ, HR, HU, MD, ME, MK, NZ, PL, RO...</td>\n",
       "    </tr>\n",
       "    <tr>\n",
       "      <th>4</th>\n",
       "      <td>Eternal Sunshine of the Spotless Mind</td>\n",
       "      <td>movie</td>\n",
       "      <td>Drama, Romance, Sci-Fi</td>\n",
       "      <td>2004.0</td>\n",
       "      <td>tt0338013</td>\n",
       "      <td>8.3</td>\n",
       "      <td>1109647.0</td>\n",
       "      <td>AD, AE, AG, AL, AO, AR, AU, AZ, BA, BB, BE, BG...</td>\n",
       "    </tr>\n",
       "    <tr>\n",
       "      <th>...</th>\n",
       "      <td>...</td>\n",
       "      <td>...</td>\n",
       "      <td>...</td>\n",
       "      <td>...</td>\n",
       "      <td>...</td>\n",
       "      <td>...</td>\n",
       "      <td>...</td>\n",
       "      <td>...</td>\n",
       "    </tr>\n",
       "    <tr>\n",
       "      <th>20159</th>\n",
       "      <td>NaN</td>\n",
       "      <td>tv</td>\n",
       "      <td>NaN</td>\n",
       "      <td>2024.0</td>\n",
       "      <td>NaN</td>\n",
       "      <td>NaN</td>\n",
       "      <td>NaN</td>\n",
       "      <td>AL, AZ, BA, BG, BY, CY, EE, FR, GF, HU, IT, LT...</td>\n",
       "    </tr>\n",
       "    <tr>\n",
       "      <th>20160</th>\n",
       "      <td>NaN</td>\n",
       "      <td>tv</td>\n",
       "      <td>Drama</td>\n",
       "      <td>2024.0</td>\n",
       "      <td>NaN</td>\n",
       "      <td>NaN</td>\n",
       "      <td>NaN</td>\n",
       "      <td>AO, CI, CM, CV, GH, GQ, KE, MG, ML, MU, MZ, NE...</td>\n",
       "    </tr>\n",
       "    <tr>\n",
       "      <th>20161</th>\n",
       "      <td>NaN</td>\n",
       "      <td>tv</td>\n",
       "      <td>Animation, Action &amp; Adventure</td>\n",
       "      <td>2016.0</td>\n",
       "      <td>NaN</td>\n",
       "      <td>NaN</td>\n",
       "      <td>NaN</td>\n",
       "      <td>FJ, HK, ID, IN, JP, KR, MU, MY, PH, PK, SG, TH...</td>\n",
       "    </tr>\n",
       "    <tr>\n",
       "      <th>20162</th>\n",
       "      <td>NaN</td>\n",
       "      <td>tv</td>\n",
       "      <td>NaN</td>\n",
       "      <td>NaN</td>\n",
       "      <td>NaN</td>\n",
       "      <td>NaN</td>\n",
       "      <td>NaN</td>\n",
       "      <td>FJ, HK, ID, IN, JP, KR, MU, MY, PH, PK, SG, TH...</td>\n",
       "    </tr>\n",
       "    <tr>\n",
       "      <th>20163</th>\n",
       "      <td>Blippi's Ultimate Bounce House Challenges</td>\n",
       "      <td>tv</td>\n",
       "      <td>NaN</td>\n",
       "      <td>2024.0</td>\n",
       "      <td>tt33769880</td>\n",
       "      <td>NaN</td>\n",
       "      <td>NaN</td>\n",
       "      <td>AG, AL, AO, AU, AZ, BA, BB, BG, BM, BS, BY, BZ...</td>\n",
       "    </tr>\n",
       "  </tbody>\n",
       "</table>\n",
       "<p>20164 rows × 8 columns</p>\n",
       "</div>"
      ],
      "text/plain": [
       "                                           title   type  \\\n",
       "0                              The Fifth Element  movie   \n",
       "1                              Kill Bill: Vol. 1  movie   \n",
       "2                                        Jarhead  movie   \n",
       "3                                     Unforgiven  movie   \n",
       "4          Eternal Sunshine of the Spotless Mind  movie   \n",
       "...                                          ...    ...   \n",
       "20159                                        NaN     tv   \n",
       "20160                                        NaN     tv   \n",
       "20161                                        NaN     tv   \n",
       "20162                                        NaN     tv   \n",
       "20163  Blippi's Ultimate Bounce House Challenges     tv   \n",
       "\n",
       "                              genres  releaseYear      imdbId  \\\n",
       "0          Action, Adventure, Sci-Fi       1997.0   tt0119116   \n",
       "1            Action, Crime, Thriller       2003.0   tt0266697   \n",
       "2              Biography, Drama, War       2005.0   tt0418763   \n",
       "3                     Drama, Western       1992.0   tt0105695   \n",
       "4             Drama, Romance, Sci-Fi       2004.0   tt0338013   \n",
       "...                              ...          ...         ...   \n",
       "20159                            NaN       2024.0         NaN   \n",
       "20160                          Drama       2024.0         NaN   \n",
       "20161  Animation, Action & Adventure       2016.0         NaN   \n",
       "20162                            NaN          NaN         NaN   \n",
       "20163                            NaN       2024.0  tt33769880   \n",
       "\n",
       "       imdbAverageRating  imdbNumVotes  \\\n",
       "0                    7.6      518358.0   \n",
       "1                    8.2     1225520.0   \n",
       "2                    7.0      212222.0   \n",
       "3                    8.2      445463.0   \n",
       "4                    8.3     1109647.0   \n",
       "...                  ...           ...   \n",
       "20159                NaN           NaN   \n",
       "20160                NaN           NaN   \n",
       "20161                NaN           NaN   \n",
       "20162                NaN           NaN   \n",
       "20163                NaN           NaN   \n",
       "\n",
       "                                      availableCountries  \n",
       "0                                             AT, CH, DE  \n",
       "1      AE, AL, AO, AT, AU, AZ, BG, BH, BY, CA, CI, CM...  \n",
       "2      AD, AE, AG, AL, AO, AT, AZ, BA, BG, BH, BM, BR...  \n",
       "3      AU, BA, BG, CZ, HR, HU, MD, ME, MK, NZ, PL, RO...  \n",
       "4      AD, AE, AG, AL, AO, AR, AU, AZ, BA, BB, BE, BG...  \n",
       "...                                                  ...  \n",
       "20159  AL, AZ, BA, BG, BY, CY, EE, FR, GF, HU, IT, LT...  \n",
       "20160  AO, CI, CM, CV, GH, GQ, KE, MG, ML, MU, MZ, NE...  \n",
       "20161  FJ, HK, ID, IN, JP, KR, MU, MY, PH, PK, SG, TH...  \n",
       "20162  FJ, HK, ID, IN, JP, KR, MU, MY, PH, PK, SG, TH...  \n",
       "20163  AG, AL, AO, AU, AZ, BA, BB, BG, BM, BS, BY, BZ...  \n",
       "\n",
       "[20164 rows x 8 columns]"
      ]
     },
     "execution_count": 2,
     "metadata": {},
     "output_type": "execute_result"
    }
   ],
   "source": [
    "df=pd.read_csv('/kaggle/input/full-netflix-dataset/data.csv')\n",
    "df"
   ]
  },
  {
   "cell_type": "markdown",
   "id": "20aae3fc",
   "metadata": {
    "id": "EXe5a1SlC53d",
    "papermill": {
     "duration": 0.014971,
     "end_time": "2024-12-07T05:38:52.459735",
     "exception": false,
     "start_time": "2024-12-07T05:38:52.444764",
     "status": "completed"
    },
    "tags": []
   },
   "source": [
    "# ***Understanding the data***"
   ]
  },
  {
   "cell_type": "code",
   "execution_count": 3,
   "id": "fc73e015",
   "metadata": {
    "execution": {
     "iopub.execute_input": "2024-12-07T05:38:52.491769Z",
     "iopub.status.busy": "2024-12-07T05:38:52.491413Z",
     "iopub.status.idle": "2024-12-07T05:38:52.524107Z",
     "shell.execute_reply": "2024-12-07T05:38:52.523100Z"
    },
    "id": "xoxjgg9ZCjD2",
    "outputId": "b5151874-4220-425e-fe45-5a3feb2f5007",
    "papermill": {
     "duration": 0.051307,
     "end_time": "2024-12-07T05:38:52.526193",
     "exception": false,
     "start_time": "2024-12-07T05:38:52.474886",
     "status": "completed"
    },
    "tags": []
   },
   "outputs": [
    {
     "name": "stdout",
     "output_type": "stream",
     "text": [
      "<class 'pandas.core.frame.DataFrame'>\n",
      "RangeIndex: 20164 entries, 0 to 20163\n",
      "Data columns (total 8 columns):\n",
      " #   Column              Non-Null Count  Dtype  \n",
      "---  ------              --------------  -----  \n",
      " 0   title               19650 non-null  object \n",
      " 1   type                20164 non-null  object \n",
      " 2   genres              19896 non-null  object \n",
      " 3   releaseYear         20149 non-null  float64\n",
      " 4   imdbId              18864 non-null  object \n",
      " 5   imdbAverageRating   18714 non-null  float64\n",
      " 6   imdbNumVotes        18714 non-null  float64\n",
      " 7   availableCountries  20164 non-null  object \n",
      "dtypes: float64(3), object(5)\n",
      "memory usage: 1.2+ MB\n"
     ]
    }
   ],
   "source": [
    "df.info()"
   ]
  },
  {
   "cell_type": "markdown",
   "id": "13b42505",
   "metadata": {
    "id": "JUadrveA6_D_",
    "papermill": {
     "duration": 0.015219,
     "end_time": "2024-12-07T05:38:52.557340",
     "exception": false,
     "start_time": "2024-12-07T05:38:52.542121",
     "status": "completed"
    },
    "tags": []
   },
   "source": [
    "* Columns title\ttype\tgenres\timdbId\tavailableCountries are objuct variables.\n",
    "* Columns releaseYear imdbAverageRating\timdbNumVotes are numeric variables."
   ]
  },
  {
   "cell_type": "code",
   "execution_count": 4,
   "id": "a741c092",
   "metadata": {
    "execution": {
     "iopub.execute_input": "2024-12-07T05:38:52.590387Z",
     "iopub.status.busy": "2024-12-07T05:38:52.589998Z",
     "iopub.status.idle": "2024-12-07T05:38:52.604520Z",
     "shell.execute_reply": "2024-12-07T05:38:52.603406Z"
    },
    "id": "KpuUXdirdYVd",
    "outputId": "ac10ea48-3482-4eb6-f148-f1f17c997532",
    "papermill": {
     "duration": 0.034243,
     "end_time": "2024-12-07T05:38:52.606955",
     "exception": false,
     "start_time": "2024-12-07T05:38:52.572712",
     "status": "completed"
    },
    "tags": []
   },
   "outputs": [
    {
     "data": {
      "text/plain": [
       "title                  514\n",
       "type                     0\n",
       "genres                 268\n",
       "releaseYear             15\n",
       "imdbId                1300\n",
       "imdbAverageRating     1450\n",
       "imdbNumVotes          1450\n",
       "availableCountries       0\n",
       "dtype: int64"
      ]
     },
     "execution_count": 4,
     "metadata": {},
     "output_type": "execute_result"
    }
   ],
   "source": [
    "df.isnull().sum()"
   ]
  },
  {
   "cell_type": "markdown",
   "id": "aa0c1392",
   "metadata": {
    "id": "95IlFBqJDZyF",
    "papermill": {
     "duration": 0.015738,
     "end_time": "2024-12-07T05:38:52.638706",
     "exception": false,
     "start_time": "2024-12-07T05:38:52.622968",
     "status": "completed"
    },
    "tags": []
   },
   "source": [
    "* Column **title** have  **497 null values**.And the data type is **object**.\n",
    "\n",
    "* Column **type** have  **no null values**.And the data type is **object**.\n",
    "\n",
    "* Column **genres** have  **147 null values**.And the data type is **object**.\n",
    "\n",
    "* Column **releaseYear** have  **12 null values**.And the data type is **float64**.\n",
    "\n",
    "* Column **imdbId** have  **679 null values**.And the data type is **object**.\n",
    "\n",
    "* Column **imdbAverageRating** have  **724 null values**.And the data type is **float64**.\n",
    "\n",
    "* Column **imdbNumVotes** have **724 null values**.And the data type is **float64**.\n",
    "\n",
    "* Column **availableCountries** have  **no null values**.And the data type is **object**."
   ]
  },
  {
   "cell_type": "markdown",
   "id": "adb12301",
   "metadata": {
    "id": "dM-_WANqLrTM",
    "papermill": {
     "duration": 0.015196,
     "end_time": "2024-12-07T05:38:52.670572",
     "exception": false,
     "start_time": "2024-12-07T05:38:52.655376",
     "status": "completed"
    },
    "tags": []
   },
   "source": [
    "-- Target variable imdbAverageRating have 724 null valuse"
   ]
  },
  {
   "cell_type": "code",
   "execution_count": 5,
   "id": "7cc07e1e",
   "metadata": {
    "execution": {
     "iopub.execute_input": "2024-12-07T05:38:52.703348Z",
     "iopub.status.busy": "2024-12-07T05:38:52.702957Z",
     "iopub.status.idle": "2024-12-07T05:38:52.717610Z",
     "shell.execute_reply": "2024-12-07T05:38:52.716575Z"
    },
    "id": "oDorx5-UmPF_",
    "outputId": "a03ed401-6d4d-4af0-f3b6-339aa376a784",
    "papermill": {
     "duration": 0.033663,
     "end_time": "2024-12-07T05:38:52.719874",
     "exception": false,
     "start_time": "2024-12-07T05:38:52.686211",
     "status": "completed"
    },
    "tags": []
   },
   "outputs": [
    {
     "data": {
      "text/plain": [
       "4997"
      ]
     },
     "execution_count": 5,
     "metadata": {},
     "output_type": "execute_result"
    }
   ],
   "source": [
    "df.isnull().sum().sum()"
   ]
  },
  {
   "cell_type": "markdown",
   "id": "0cff6ae8",
   "metadata": {
    "id": "i6hd6eNSmqBd",
    "papermill": {
     "duration": 0.015333,
     "end_time": "2024-12-07T05:38:52.751193",
     "exception": false,
     "start_time": "2024-12-07T05:38:52.735860",
     "status": "completed"
    },
    "tags": []
   },
   "source": [
    "This dataset have total 2783"
   ]
  },
  {
   "cell_type": "code",
   "execution_count": 6,
   "id": "4ee85e5f",
   "metadata": {
    "execution": {
     "iopub.execute_input": "2024-12-07T05:38:52.835746Z",
     "iopub.status.busy": "2024-12-07T05:38:52.835351Z",
     "iopub.status.idle": "2024-12-07T05:38:52.840338Z",
     "shell.execute_reply": "2024-12-07T05:38:52.839276Z"
    },
    "id": "VwkP5USPdPVP",
    "outputId": "6c94c8e2-42d1-4a29-9a30-a41b76eacaf3",
    "papermill": {
     "duration": 0.075679,
     "end_time": "2024-12-07T05:38:52.842509",
     "exception": false,
     "start_time": "2024-12-07T05:38:52.766830",
     "status": "completed"
    },
    "tags": []
   },
   "outputs": [
    {
     "name": "stdout",
     "output_type": "stream",
     "text": [
      "(20164, 8)\n"
     ]
    }
   ],
   "source": [
    "print(df.shape)"
   ]
  },
  {
   "cell_type": "markdown",
   "id": "b32b5435",
   "metadata": {
    "id": "jVGQF_WDMb2B",
    "papermill": {
     "duration": 0.016026,
     "end_time": "2024-12-07T05:38:52.874721",
     "exception": false,
     "start_time": "2024-12-07T05:38:52.858695",
     "status": "completed"
    },
    "tags": []
   },
   "source": [
    "This dataset have 8 Columns and 15860 Rows."
   ]
  },
  {
   "cell_type": "code",
   "execution_count": 7,
   "id": "0112911e",
   "metadata": {
    "execution": {
     "iopub.execute_input": "2024-12-07T05:38:52.910315Z",
     "iopub.status.busy": "2024-12-07T05:38:52.909910Z",
     "iopub.status.idle": "2024-12-07T05:38:52.940889Z",
     "shell.execute_reply": "2024-12-07T05:38:52.939877Z"
    },
    "id": "rDHEd0ZpIktl",
    "outputId": "837c9f90-d5bd-46e8-f400-556f34138bd6",
    "papermill": {
     "duration": 0.051038,
     "end_time": "2024-12-07T05:38:52.943272",
     "exception": false,
     "start_time": "2024-12-07T05:38:52.892234",
     "status": "completed"
    },
    "tags": []
   },
   "outputs": [
    {
     "data": {
      "text/plain": [
       "85"
      ]
     },
     "execution_count": 7,
     "metadata": {},
     "output_type": "execute_result"
    }
   ],
   "source": [
    "# Checking total number of duplicates\n",
    "df.duplicated().sum()"
   ]
  },
  {
   "cell_type": "markdown",
   "id": "26ad3b62",
   "metadata": {
    "id": "cSJHlEvRJqEk",
    "papermill": {
     "duration": 0.016138,
     "end_time": "2024-12-07T05:38:52.975474",
     "exception": false,
     "start_time": "2024-12-07T05:38:52.959336",
     "status": "completed"
    },
    "tags": []
   },
   "source": [
    "This dataset have 82 duplicate rows"
   ]
  },
  {
   "cell_type": "code",
   "execution_count": 8,
   "id": "ca7821e0",
   "metadata": {
    "execution": {
     "iopub.execute_input": "2024-12-07T05:38:53.009380Z",
     "iopub.status.busy": "2024-12-07T05:38:53.009023Z",
     "iopub.status.idle": "2024-12-07T05:38:53.026957Z",
     "shell.execute_reply": "2024-12-07T05:38:53.025963Z"
    },
    "id": "fDqxGfmfDWiU",
    "outputId": "f25dcf87-dc48-4d44-c635-9dfda009c964",
    "papermill": {
     "duration": 0.037618,
     "end_time": "2024-12-07T05:38:53.029160",
     "exception": false,
     "start_time": "2024-12-07T05:38:52.991542",
     "status": "completed"
    },
    "tags": []
   },
   "outputs": [
    {
     "data": {
      "text/plain": [
       "title\n",
       "Perfect Strangers                            5\n",
       "Monster                                      5\n",
       "The Killer                                   5\n",
       "Shadow                                       4\n",
       "Life                                         4\n",
       "                                            ..\n",
       "To Steal from a Thief                        1\n",
       "To My Beloved                                1\n",
       "Un + Une                                     1\n",
       "Bangistan                                    1\n",
       "Blippi's Ultimate Bounce House Challenges    1\n",
       "Name: count, Length: 18914, dtype: int64"
      ]
     },
     "execution_count": 8,
     "metadata": {},
     "output_type": "execute_result"
    }
   ],
   "source": [
    "# Checking title have any duplicates\n",
    "df['title'].value_counts()"
   ]
  },
  {
   "cell_type": "code",
   "execution_count": 9,
   "id": "c4098398",
   "metadata": {
    "execution": {
     "iopub.execute_input": "2024-12-07T05:38:53.064753Z",
     "iopub.status.busy": "2024-12-07T05:38:53.064365Z",
     "iopub.status.idle": "2024-12-07T05:38:53.091256Z",
     "shell.execute_reply": "2024-12-07T05:38:53.090192Z"
    },
    "id": "M-uyHYgbl9lE",
    "outputId": "b8a8f334-74fa-4c0e-8fba-44ffa3b042f1",
    "papermill": {
     "duration": 0.047324,
     "end_time": "2024-12-07T05:38:53.093482",
     "exception": false,
     "start_time": "2024-12-07T05:38:53.046158",
     "status": "completed"
    },
    "tags": []
   },
   "outputs": [
    {
     "data": {
      "text/html": [
       "<div>\n",
       "<style scoped>\n",
       "    .dataframe tbody tr th:only-of-type {\n",
       "        vertical-align: middle;\n",
       "    }\n",
       "\n",
       "    .dataframe tbody tr th {\n",
       "        vertical-align: top;\n",
       "    }\n",
       "\n",
       "    .dataframe thead th {\n",
       "        text-align: right;\n",
       "    }\n",
       "</style>\n",
       "<table border=\"1\" class=\"dataframe\">\n",
       "  <thead>\n",
       "    <tr style=\"text-align: right;\">\n",
       "      <th></th>\n",
       "      <th>count</th>\n",
       "      <th>mean</th>\n",
       "      <th>std</th>\n",
       "      <th>min</th>\n",
       "      <th>25%</th>\n",
       "      <th>50%</th>\n",
       "      <th>75%</th>\n",
       "      <th>max</th>\n",
       "    </tr>\n",
       "  </thead>\n",
       "  <tbody>\n",
       "    <tr>\n",
       "      <th>releaseYear</th>\n",
       "      <td>20149.0</td>\n",
       "      <td>2012.946896</td>\n",
       "      <td>14.415474</td>\n",
       "      <td>1913.0</td>\n",
       "      <td>2011.0</td>\n",
       "      <td>2018.0</td>\n",
       "      <td>2021.00</td>\n",
       "      <td>2025.0</td>\n",
       "    </tr>\n",
       "    <tr>\n",
       "      <th>imdbAverageRating</th>\n",
       "      <td>18714.0</td>\n",
       "      <td>6.397857</td>\n",
       "      <td>1.094516</td>\n",
       "      <td>1.2</td>\n",
       "      <td>5.7</td>\n",
       "      <td>6.5</td>\n",
       "      <td>7.20</td>\n",
       "      <td>9.5</td>\n",
       "    </tr>\n",
       "    <tr>\n",
       "      <th>imdbNumVotes</th>\n",
       "      <td>18714.0</td>\n",
       "      <td>31890.794325</td>\n",
       "      <td>120026.989067</td>\n",
       "      <td>5.0</td>\n",
       "      <td>339.0</td>\n",
       "      <td>1625.0</td>\n",
       "      <td>10371.75</td>\n",
       "      <td>2971778.0</td>\n",
       "    </tr>\n",
       "  </tbody>\n",
       "</table>\n",
       "</div>"
      ],
      "text/plain": [
       "                     count          mean            std     min     25%  \\\n",
       "releaseYear        20149.0   2012.946896      14.415474  1913.0  2011.0   \n",
       "imdbAverageRating  18714.0      6.397857       1.094516     1.2     5.7   \n",
       "imdbNumVotes       18714.0  31890.794325  120026.989067     5.0   339.0   \n",
       "\n",
       "                      50%       75%        max  \n",
       "releaseYear        2018.0   2021.00     2025.0  \n",
       "imdbAverageRating     6.5      7.20        9.5  \n",
       "imdbNumVotes       1625.0  10371.75  2971778.0  "
      ]
     },
     "execution_count": 9,
     "metadata": {},
     "output_type": "execute_result"
    }
   ],
   "source": [
    "df.describe().T"
   ]
  },
  {
   "cell_type": "markdown",
   "id": "a63ecb37",
   "metadata": {
    "id": "HakDaY_8JKB8",
    "papermill": {
     "duration": 0.016174,
     "end_time": "2024-12-07T05:38:53.127670",
     "exception": false,
     "start_time": "2024-12-07T05:38:53.111496",
     "status": "completed"
    },
    "tags": []
   },
   "source": [
    "# Data Cleaning"
   ]
  },
  {
   "cell_type": "code",
   "execution_count": 10,
   "id": "08d02238",
   "metadata": {
    "execution": {
     "iopub.execute_input": "2024-12-07T05:38:53.163096Z",
     "iopub.status.busy": "2024-12-07T05:38:53.161545Z",
     "iopub.status.idle": "2024-12-07T05:38:53.168550Z",
     "shell.execute_reply": "2024-12-07T05:38:53.167627Z"
    },
    "id": "v0RtCq1pIDO8",
    "papermill": {
     "duration": 0.026546,
     "end_time": "2024-12-07T05:38:53.170774",
     "exception": false,
     "start_time": "2024-12-07T05:38:53.144228",
     "status": "completed"
    },
    "tags": []
   },
   "outputs": [],
   "source": [
    "# Coping df into df1\n",
    "df1=df.copy()"
   ]
  },
  {
   "cell_type": "code",
   "execution_count": 11,
   "id": "3aa5cedd",
   "metadata": {
    "execution": {
     "iopub.execute_input": "2024-12-07T05:38:53.204968Z",
     "iopub.status.busy": "2024-12-07T05:38:53.204559Z",
     "iopub.status.idle": "2024-12-07T05:38:53.236300Z",
     "shell.execute_reply": "2024-12-07T05:38:53.235304Z"
    },
    "id": "rsDeKQ6NJhU8",
    "papermill": {
     "duration": 0.051382,
     "end_time": "2024-12-07T05:38:53.238676",
     "exception": false,
     "start_time": "2024-12-07T05:38:53.187294",
     "status": "completed"
    },
    "tags": []
   },
   "outputs": [],
   "source": [
    "# Droping duplicates\n",
    "df1.drop_duplicates(inplace=True)"
   ]
  },
  {
   "cell_type": "code",
   "execution_count": 12,
   "id": "32431f17",
   "metadata": {
    "execution": {
     "iopub.execute_input": "2024-12-07T05:38:53.273132Z",
     "iopub.status.busy": "2024-12-07T05:38:53.272712Z",
     "iopub.status.idle": "2024-12-07T05:38:53.285209Z",
     "shell.execute_reply": "2024-12-07T05:38:53.284109Z"
    },
    "id": "U4bb5u5fKj5a",
    "outputId": "e2f34a07-b4d4-4190-e97e-d591ad111b93",
    "papermill": {
     "duration": 0.032064,
     "end_time": "2024-12-07T05:38:53.287408",
     "exception": false,
     "start_time": "2024-12-07T05:38:53.255344",
     "status": "completed"
    },
    "tags": []
   },
   "outputs": [
    {
     "name": "stdout",
     "output_type": "stream",
     "text": [
      "title                  429\n",
      "type                     0\n",
      "genres                 260\n",
      "releaseYear             15\n",
      "imdbId                1215\n",
      "imdbAverageRating     1365\n",
      "imdbNumVotes          1365\n",
      "availableCountries       0\n",
      "dtype: int64\n"
     ]
    }
   ],
   "source": [
    "# chacking is there any null values after removing duplicates\n",
    "print(df1.isnull().sum())"
   ]
  },
  {
   "cell_type": "code",
   "execution_count": 13,
   "id": "e1c7c4cb",
   "metadata": {
    "execution": {
     "iopub.execute_input": "2024-12-07T05:38:53.322110Z",
     "iopub.status.busy": "2024-12-07T05:38:53.321718Z",
     "iopub.status.idle": "2024-12-07T05:38:53.329039Z",
     "shell.execute_reply": "2024-12-07T05:38:53.327889Z"
    },
    "id": "yyMk8gBKKaIr",
    "outputId": "93d55bc3-450b-4994-caae-20fa28cc87a1",
    "papermill": {
     "duration": 0.027006,
     "end_time": "2024-12-07T05:38:53.331035",
     "exception": false,
     "start_time": "2024-12-07T05:38:53.304029",
     "status": "completed"
    },
    "tags": []
   },
   "outputs": [
    {
     "data": {
      "text/plain": [
       "1365"
      ]
     },
     "execution_count": 13,
     "metadata": {},
     "output_type": "execute_result"
    }
   ],
   "source": [
    "# Checkin is there still any null values in Target variable\n",
    "df1['imdbAverageRating'].isnull().sum()"
   ]
  },
  {
   "cell_type": "code",
   "execution_count": 14,
   "id": "b1f4639a",
   "metadata": {
    "execution": {
     "iopub.execute_input": "2024-12-07T05:38:53.366290Z",
     "iopub.status.busy": "2024-12-07T05:38:53.365912Z",
     "iopub.status.idle": "2024-12-07T05:38:53.374962Z",
     "shell.execute_reply": "2024-12-07T05:38:53.373876Z"
    },
    "id": "nMWLa3WNMuPU",
    "papermill": {
     "duration": 0.029496,
     "end_time": "2024-12-07T05:38:53.377169",
     "exception": false,
     "start_time": "2024-12-07T05:38:53.347673",
     "status": "completed"
    },
    "tags": []
   },
   "outputs": [],
   "source": [
    "# Dropping rows where target variable (imdbAverageRating) have null value\n",
    "df1=df1.dropna(subset=['imdbAverageRating'])"
   ]
  },
  {
   "cell_type": "code",
   "execution_count": 15,
   "id": "50af318f",
   "metadata": {
    "execution": {
     "iopub.execute_input": "2024-12-07T05:38:53.413144Z",
     "iopub.status.busy": "2024-12-07T05:38:53.412729Z",
     "iopub.status.idle": "2024-12-07T05:38:53.425569Z",
     "shell.execute_reply": "2024-12-07T05:38:53.424384Z"
    },
    "id": "xCsAVPFQQqvU",
    "outputId": "6c7459c5-ffed-44d0-e7c7-1235e9a373b6",
    "papermill": {
     "duration": 0.033226,
     "end_time": "2024-12-07T05:38:53.427992",
     "exception": false,
     "start_time": "2024-12-07T05:38:53.394766",
     "status": "completed"
    },
    "tags": []
   },
   "outputs": [
    {
     "name": "stdout",
     "output_type": "stream",
     "text": [
      "title                 0\n",
      "type                  0\n",
      "genres                0\n",
      "releaseYear           0\n",
      "imdbId                0\n",
      "imdbAverageRating     0\n",
      "imdbNumVotes          0\n",
      "availableCountries    0\n",
      "dtype: int64\n"
     ]
    }
   ],
   "source": [
    "# chacking is there any null values after removing null values in the target variable(imdbAverageRating)\n",
    "print(df1.isnull().sum())"
   ]
  },
  {
   "cell_type": "markdown",
   "id": "4da4a7bc",
   "metadata": {
    "id": "xP6McKpPXluM",
    "papermill": {
     "duration": 0.017063,
     "end_time": "2024-12-07T05:38:53.462090",
     "exception": false,
     "start_time": "2024-12-07T05:38:53.445027",
     "status": "completed"
    },
    "tags": []
   },
   "source": [
    "Now there is no null values in the dataset"
   ]
  },
  {
   "cell_type": "code",
   "execution_count": 16,
   "id": "b21848b9",
   "metadata": {
    "execution": {
     "iopub.execute_input": "2024-12-07T05:38:53.497946Z",
     "iopub.status.busy": "2024-12-07T05:38:53.497327Z",
     "iopub.status.idle": "2024-12-07T05:38:53.523714Z",
     "shell.execute_reply": "2024-12-07T05:38:53.522750Z"
    },
    "id": "FMWSWieNjGpZ",
    "outputId": "15ee6efc-0c36-42d6-f301-d1c8728b29a9",
    "papermill": {
     "duration": 0.047454,
     "end_time": "2024-12-07T05:38:53.526129",
     "exception": false,
     "start_time": "2024-12-07T05:38:53.478675",
     "status": "completed"
    },
    "tags": []
   },
   "outputs": [
    {
     "data": {
      "text/plain": [
       "0"
      ]
     },
     "execution_count": 16,
     "metadata": {},
     "output_type": "execute_result"
    }
   ],
   "source": [
    "df1.duplicated().sum()"
   ]
  },
  {
   "cell_type": "markdown",
   "id": "be3ddf38",
   "metadata": {
    "id": "Ajp1Si9tMwn4",
    "papermill": {
     "duration": 0.016321,
     "end_time": "2024-12-07T05:38:53.559452",
     "exception": false,
     "start_time": "2024-12-07T05:38:53.543131",
     "status": "completed"
    },
    "tags": []
   },
   "source": [
    "Now there is no duplicated rows in the dataset"
   ]
  },
  {
   "cell_type": "markdown",
   "id": "1b7d58a1",
   "metadata": {
    "id": "JH_rmXKPxzIO",
    "papermill": {
     "duration": 0.016346,
     "end_time": "2024-12-07T05:38:53.592187",
     "exception": false,
     "start_time": "2024-12-07T05:38:53.575841",
     "status": "completed"
    },
    "tags": []
   },
   "source": [
    "**Droping**"
   ]
  },
  {
   "cell_type": "code",
   "execution_count": 17,
   "id": "af027285",
   "metadata": {
    "execution": {
     "iopub.execute_input": "2024-12-07T05:38:53.627642Z",
     "iopub.status.busy": "2024-12-07T05:38:53.627236Z",
     "iopub.status.idle": "2024-12-07T05:38:53.636443Z",
     "shell.execute_reply": "2024-12-07T05:38:53.635365Z"
    },
    "id": "50Y0EojVqb8A",
    "papermill": {
     "duration": 0.029652,
     "end_time": "2024-12-07T05:38:53.638643",
     "exception": false,
     "start_time": "2024-12-07T05:38:53.608991",
     "status": "completed"
    },
    "tags": []
   },
   "outputs": [],
   "source": [
    "# Dropping column availableCountries\n",
    "# Scince this feature is not proper and confusing so willl drop the column availableCountries\n",
    "df1=df1.drop('availableCountries',axis=1)"
   ]
  },
  {
   "cell_type": "code",
   "execution_count": 18,
   "id": "c38d5c51",
   "metadata": {
    "execution": {
     "iopub.execute_input": "2024-12-07T05:38:53.673777Z",
     "iopub.status.busy": "2024-12-07T05:38:53.673303Z",
     "iopub.status.idle": "2024-12-07T05:38:53.680867Z",
     "shell.execute_reply": "2024-12-07T05:38:53.679492Z"
    },
    "id": "_tIZvzJqrMZ-",
    "papermill": {
     "duration": 0.027756,
     "end_time": "2024-12-07T05:38:53.683154",
     "exception": false,
     "start_time": "2024-12-07T05:38:53.655398",
     "status": "completed"
    },
    "tags": []
   },
   "outputs": [],
   "source": [
    "# Dropping column imdbId\n",
    "df1=df1.drop('imdbId',axis=1)"
   ]
  },
  {
   "cell_type": "code",
   "execution_count": 19,
   "id": "00f42aa3",
   "metadata": {
    "execution": {
     "iopub.execute_input": "2024-12-07T05:38:53.718880Z",
     "iopub.status.busy": "2024-12-07T05:38:53.718421Z",
     "iopub.status.idle": "2024-12-07T05:38:53.734052Z",
     "shell.execute_reply": "2024-12-07T05:38:53.732765Z"
    },
    "id": "FHg6Lkl0rf7v",
    "outputId": "f854dac6-8695-4f32-bdbf-eae5f13e7913",
    "papermill": {
     "duration": 0.035711,
     "end_time": "2024-12-07T05:38:53.736096",
     "exception": false,
     "start_time": "2024-12-07T05:38:53.700385",
     "status": "completed"
    },
    "tags": []
   },
   "outputs": [
    {
     "data": {
      "text/html": [
       "<div>\n",
       "<style scoped>\n",
       "    .dataframe tbody tr th:only-of-type {\n",
       "        vertical-align: middle;\n",
       "    }\n",
       "\n",
       "    .dataframe tbody tr th {\n",
       "        vertical-align: top;\n",
       "    }\n",
       "\n",
       "    .dataframe thead th {\n",
       "        text-align: right;\n",
       "    }\n",
       "</style>\n",
       "<table border=\"1\" class=\"dataframe\">\n",
       "  <thead>\n",
       "    <tr style=\"text-align: right;\">\n",
       "      <th></th>\n",
       "      <th>title</th>\n",
       "      <th>type</th>\n",
       "      <th>genres</th>\n",
       "      <th>releaseYear</th>\n",
       "      <th>imdbAverageRating</th>\n",
       "      <th>imdbNumVotes</th>\n",
       "    </tr>\n",
       "  </thead>\n",
       "  <tbody>\n",
       "    <tr>\n",
       "      <th>0</th>\n",
       "      <td>The Fifth Element</td>\n",
       "      <td>movie</td>\n",
       "      <td>Action, Adventure, Sci-Fi</td>\n",
       "      <td>1997.0</td>\n",
       "      <td>7.6</td>\n",
       "      <td>518358.0</td>\n",
       "    </tr>\n",
       "    <tr>\n",
       "      <th>1</th>\n",
       "      <td>Kill Bill: Vol. 1</td>\n",
       "      <td>movie</td>\n",
       "      <td>Action, Crime, Thriller</td>\n",
       "      <td>2003.0</td>\n",
       "      <td>8.2</td>\n",
       "      <td>1225520.0</td>\n",
       "    </tr>\n",
       "    <tr>\n",
       "      <th>2</th>\n",
       "      <td>Jarhead</td>\n",
       "      <td>movie</td>\n",
       "      <td>Biography, Drama, War</td>\n",
       "      <td>2005.0</td>\n",
       "      <td>7.0</td>\n",
       "      <td>212222.0</td>\n",
       "    </tr>\n",
       "    <tr>\n",
       "      <th>3</th>\n",
       "      <td>Unforgiven</td>\n",
       "      <td>movie</td>\n",
       "      <td>Drama, Western</td>\n",
       "      <td>1992.0</td>\n",
       "      <td>8.2</td>\n",
       "      <td>445463.0</td>\n",
       "    </tr>\n",
       "    <tr>\n",
       "      <th>4</th>\n",
       "      <td>Eternal Sunshine of the Spotless Mind</td>\n",
       "      <td>movie</td>\n",
       "      <td>Drama, Romance, Sci-Fi</td>\n",
       "      <td>2004.0</td>\n",
       "      <td>8.3</td>\n",
       "      <td>1109647.0</td>\n",
       "    </tr>\n",
       "    <tr>\n",
       "      <th>...</th>\n",
       "      <td>...</td>\n",
       "      <td>...</td>\n",
       "      <td>...</td>\n",
       "      <td>...</td>\n",
       "      <td>...</td>\n",
       "      <td>...</td>\n",
       "    </tr>\n",
       "    <tr>\n",
       "      <th>20146</th>\n",
       "      <td>This Is the Zodiac Speaking</td>\n",
       "      <td>tv</td>\n",
       "      <td>Crime, Documentary</td>\n",
       "      <td>2024.0</td>\n",
       "      <td>7.2</td>\n",
       "      <td>5288.0</td>\n",
       "    </tr>\n",
       "    <tr>\n",
       "      <th>20147</th>\n",
       "      <td>The Manhattan Alien Abduction</td>\n",
       "      <td>tv</td>\n",
       "      <td>Documentary</td>\n",
       "      <td>2024.0</td>\n",
       "      <td>5.3</td>\n",
       "      <td>1290.0</td>\n",
       "    </tr>\n",
       "    <tr>\n",
       "      <th>20149</th>\n",
       "      <td>Children of the Church Steps</td>\n",
       "      <td>tv</td>\n",
       "      <td>Drama, History, Thriller</td>\n",
       "      <td>2024.0</td>\n",
       "      <td>6.7</td>\n",
       "      <td>318.0</td>\n",
       "    </tr>\n",
       "    <tr>\n",
       "      <th>20152</th>\n",
       "      <td>Don't Come Home</td>\n",
       "      <td>tv</td>\n",
       "      <td>Drama, Horror, Mystery</td>\n",
       "      <td>2024.0</td>\n",
       "      <td>7.2</td>\n",
       "      <td>2630.0</td>\n",
       "    </tr>\n",
       "    <tr>\n",
       "      <th>20156</th>\n",
       "      <td>The Evolution of Black British Music</td>\n",
       "      <td>tv</td>\n",
       "      <td>Documentary, Music</td>\n",
       "      <td>2022.0</td>\n",
       "      <td>7.3</td>\n",
       "      <td>21.0</td>\n",
       "    </tr>\n",
       "  </tbody>\n",
       "</table>\n",
       "<p>18714 rows × 6 columns</p>\n",
       "</div>"
      ],
      "text/plain": [
       "                                       title   type  \\\n",
       "0                          The Fifth Element  movie   \n",
       "1                          Kill Bill: Vol. 1  movie   \n",
       "2                                    Jarhead  movie   \n",
       "3                                 Unforgiven  movie   \n",
       "4      Eternal Sunshine of the Spotless Mind  movie   \n",
       "...                                      ...    ...   \n",
       "20146            This Is the Zodiac Speaking     tv   \n",
       "20147          The Manhattan Alien Abduction     tv   \n",
       "20149           Children of the Church Steps     tv   \n",
       "20152                        Don't Come Home     tv   \n",
       "20156   The Evolution of Black British Music     tv   \n",
       "\n",
       "                          genres  releaseYear  imdbAverageRating  imdbNumVotes  \n",
       "0      Action, Adventure, Sci-Fi       1997.0                7.6      518358.0  \n",
       "1        Action, Crime, Thriller       2003.0                8.2     1225520.0  \n",
       "2          Biography, Drama, War       2005.0                7.0      212222.0  \n",
       "3                 Drama, Western       1992.0                8.2      445463.0  \n",
       "4         Drama, Romance, Sci-Fi       2004.0                8.3     1109647.0  \n",
       "...                          ...          ...                ...           ...  \n",
       "20146         Crime, Documentary       2024.0                7.2        5288.0  \n",
       "20147                Documentary       2024.0                5.3        1290.0  \n",
       "20149   Drama, History, Thriller       2024.0                6.7         318.0  \n",
       "20152     Drama, Horror, Mystery       2024.0                7.2        2630.0  \n",
       "20156         Documentary, Music       2022.0                7.3          21.0  \n",
       "\n",
       "[18714 rows x 6 columns]"
      ]
     },
     "execution_count": 19,
     "metadata": {},
     "output_type": "execute_result"
    }
   ],
   "source": [
    "df1"
   ]
  },
  {
   "cell_type": "code",
   "execution_count": 20,
   "id": "77a33c71",
   "metadata": {
    "execution": {
     "iopub.execute_input": "2024-12-07T05:38:53.774390Z",
     "iopub.status.busy": "2024-12-07T05:38:53.773936Z",
     "iopub.status.idle": "2024-12-07T05:38:53.779692Z",
     "shell.execute_reply": "2024-12-07T05:38:53.778862Z"
    },
    "id": "G16czZQvlr1_",
    "papermill": {
     "duration": 0.028018,
     "end_time": "2024-12-07T05:38:53.781767",
     "exception": false,
     "start_time": "2024-12-07T05:38:53.753749",
     "status": "completed"
    },
    "tags": []
   },
   "outputs": [],
   "source": [
    "# Changing dtype of releaseYear form float into int\n",
    "df1['releaseYear']=df1['releaseYear'].astype('int64')"
   ]
  },
  {
   "cell_type": "code",
   "execution_count": 21,
   "id": "b49009d1",
   "metadata": {
    "execution": {
     "iopub.execute_input": "2024-12-07T05:38:53.818288Z",
     "iopub.status.busy": "2024-12-07T05:38:53.817542Z",
     "iopub.status.idle": "2024-12-07T05:38:53.823723Z",
     "shell.execute_reply": "2024-12-07T05:38:53.822517Z"
    },
    "id": "6qcciwluodu_",
    "papermill": {
     "duration": 0.027117,
     "end_time": "2024-12-07T05:38:53.825847",
     "exception": false,
     "start_time": "2024-12-07T05:38:53.798730",
     "status": "completed"
    },
    "tags": []
   },
   "outputs": [],
   "source": [
    "# # Changing dtype of 'imdbNumVotes' from float into int\n",
    "df1['imdbNumVotes']=df1['imdbNumVotes'].astype('int64')"
   ]
  },
  {
   "cell_type": "code",
   "execution_count": 22,
   "id": "ad80e353",
   "metadata": {
    "execution": {
     "iopub.execute_input": "2024-12-07T05:38:53.861927Z",
     "iopub.status.busy": "2024-12-07T05:38:53.861451Z",
     "iopub.status.idle": "2024-12-07T05:38:53.876498Z",
     "shell.execute_reply": "2024-12-07T05:38:53.875323Z"
    },
    "id": "QcoQbr1Moy33",
    "outputId": "ce304a95-a5ea-440d-f97d-a00658b9b7de",
    "papermill": {
     "duration": 0.035528,
     "end_time": "2024-12-07T05:38:53.878602",
     "exception": false,
     "start_time": "2024-12-07T05:38:53.843074",
     "status": "completed"
    },
    "tags": []
   },
   "outputs": [
    {
     "name": "stdout",
     "output_type": "stream",
     "text": [
      "<class 'pandas.core.frame.DataFrame'>\n",
      "Index: 18714 entries, 0 to 20156\n",
      "Data columns (total 6 columns):\n",
      " #   Column             Non-Null Count  Dtype  \n",
      "---  ------             --------------  -----  \n",
      " 0   title              18714 non-null  object \n",
      " 1   type               18714 non-null  object \n",
      " 2   genres             18714 non-null  object \n",
      " 3   releaseYear        18714 non-null  int64  \n",
      " 4   imdbAverageRating  18714 non-null  float64\n",
      " 5   imdbNumVotes       18714 non-null  int64  \n",
      "dtypes: float64(1), int64(2), object(3)\n",
      "memory usage: 1023.4+ KB\n"
     ]
    }
   ],
   "source": [
    "df1.info()"
   ]
  },
  {
   "cell_type": "markdown",
   "id": "8e205ffb",
   "metadata": {
    "id": "FOmh3uPjnNQv",
    "papermill": {
     "duration": 0.01672,
     "end_time": "2024-12-07T05:38:53.912624",
     "exception": false,
     "start_time": "2024-12-07T05:38:53.895904",
     "status": "completed"
    },
    "tags": []
   },
   "source": [
    "# Feature Engineers"
   ]
  },
  {
   "cell_type": "code",
   "execution_count": 23,
   "id": "37a9677b",
   "metadata": {
    "execution": {
     "iopub.execute_input": "2024-12-07T05:38:53.949062Z",
     "iopub.status.busy": "2024-12-07T05:38:53.948651Z",
     "iopub.status.idle": "2024-12-07T05:38:53.953369Z",
     "shell.execute_reply": "2024-12-07T05:38:53.952290Z"
    },
    "id": "9MnQN1kAzC_O",
    "papermill": {
     "duration": 0.025867,
     "end_time": "2024-12-07T05:38:53.955394",
     "exception": false,
     "start_time": "2024-12-07T05:38:53.929527",
     "status": "completed"
    },
    "tags": []
   },
   "outputs": [],
   "source": [
    "# Creating new column named  perfomance_of_movies"
   ]
  },
  {
   "cell_type": "code",
   "execution_count": 24,
   "id": "c42aa761",
   "metadata": {
    "execution": {
     "iopub.execute_input": "2024-12-07T05:38:53.993195Z",
     "iopub.status.busy": "2024-12-07T05:38:53.992766Z",
     "iopub.status.idle": "2024-12-07T05:38:54.009560Z",
     "shell.execute_reply": "2024-12-07T05:38:54.008322Z"
    },
    "id": "Lx-CkhBxn4wH",
    "outputId": "4e2f2744-0081-409c-f31e-489623ee7985",
    "papermill": {
     "duration": 0.037429,
     "end_time": "2024-12-07T05:38:54.011873",
     "exception": false,
     "start_time": "2024-12-07T05:38:53.974444",
     "status": "completed"
    },
    "tags": []
   },
   "outputs": [
    {
     "data": {
      "text/html": [
       "<div>\n",
       "<style scoped>\n",
       "    .dataframe tbody tr th:only-of-type {\n",
       "        vertical-align: middle;\n",
       "    }\n",
       "\n",
       "    .dataframe tbody tr th {\n",
       "        vertical-align: top;\n",
       "    }\n",
       "\n",
       "    .dataframe thead th {\n",
       "        text-align: right;\n",
       "    }\n",
       "</style>\n",
       "<table border=\"1\" class=\"dataframe\">\n",
       "  <thead>\n",
       "    <tr style=\"text-align: right;\">\n",
       "      <th></th>\n",
       "      <th>title</th>\n",
       "      <th>type</th>\n",
       "      <th>genres</th>\n",
       "      <th>releaseYear</th>\n",
       "      <th>imdbAverageRating</th>\n",
       "      <th>imdbNumVotes</th>\n",
       "      <th>perfomance_of_movies</th>\n",
       "    </tr>\n",
       "  </thead>\n",
       "  <tbody>\n",
       "    <tr>\n",
       "      <th>0</th>\n",
       "      <td>The Fifth Element</td>\n",
       "      <td>movie</td>\n",
       "      <td>Action, Adventure, Sci-Fi</td>\n",
       "      <td>1997</td>\n",
       "      <td>7.6</td>\n",
       "      <td>518358</td>\n",
       "      <td>7.6</td>\n",
       "    </tr>\n",
       "    <tr>\n",
       "      <th>1</th>\n",
       "      <td>Kill Bill: Vol. 1</td>\n",
       "      <td>movie</td>\n",
       "      <td>Action, Crime, Thriller</td>\n",
       "      <td>2003</td>\n",
       "      <td>8.2</td>\n",
       "      <td>1225520</td>\n",
       "      <td>8.2</td>\n",
       "    </tr>\n",
       "    <tr>\n",
       "      <th>2</th>\n",
       "      <td>Jarhead</td>\n",
       "      <td>movie</td>\n",
       "      <td>Biography, Drama, War</td>\n",
       "      <td>2005</td>\n",
       "      <td>7.0</td>\n",
       "      <td>212222</td>\n",
       "      <td>7.0</td>\n",
       "    </tr>\n",
       "    <tr>\n",
       "      <th>3</th>\n",
       "      <td>Unforgiven</td>\n",
       "      <td>movie</td>\n",
       "      <td>Drama, Western</td>\n",
       "      <td>1992</td>\n",
       "      <td>8.2</td>\n",
       "      <td>445463</td>\n",
       "      <td>8.2</td>\n",
       "    </tr>\n",
       "    <tr>\n",
       "      <th>4</th>\n",
       "      <td>Eternal Sunshine of the Spotless Mind</td>\n",
       "      <td>movie</td>\n",
       "      <td>Drama, Romance, Sci-Fi</td>\n",
       "      <td>2004</td>\n",
       "      <td>8.3</td>\n",
       "      <td>1109647</td>\n",
       "      <td>8.3</td>\n",
       "    </tr>\n",
       "    <tr>\n",
       "      <th>...</th>\n",
       "      <td>...</td>\n",
       "      <td>...</td>\n",
       "      <td>...</td>\n",
       "      <td>...</td>\n",
       "      <td>...</td>\n",
       "      <td>...</td>\n",
       "      <td>...</td>\n",
       "    </tr>\n",
       "    <tr>\n",
       "      <th>20146</th>\n",
       "      <td>This Is the Zodiac Speaking</td>\n",
       "      <td>tv</td>\n",
       "      <td>Crime, Documentary</td>\n",
       "      <td>2024</td>\n",
       "      <td>7.2</td>\n",
       "      <td>5288</td>\n",
       "      <td>7.2</td>\n",
       "    </tr>\n",
       "    <tr>\n",
       "      <th>20147</th>\n",
       "      <td>The Manhattan Alien Abduction</td>\n",
       "      <td>tv</td>\n",
       "      <td>Documentary</td>\n",
       "      <td>2024</td>\n",
       "      <td>5.3</td>\n",
       "      <td>1290</td>\n",
       "      <td>5.3</td>\n",
       "    </tr>\n",
       "    <tr>\n",
       "      <th>20149</th>\n",
       "      <td>Children of the Church Steps</td>\n",
       "      <td>tv</td>\n",
       "      <td>Drama, History, Thriller</td>\n",
       "      <td>2024</td>\n",
       "      <td>6.7</td>\n",
       "      <td>318</td>\n",
       "      <td>6.7</td>\n",
       "    </tr>\n",
       "    <tr>\n",
       "      <th>20152</th>\n",
       "      <td>Don't Come Home</td>\n",
       "      <td>tv</td>\n",
       "      <td>Drama, Horror, Mystery</td>\n",
       "      <td>2024</td>\n",
       "      <td>7.2</td>\n",
       "      <td>2630</td>\n",
       "      <td>7.2</td>\n",
       "    </tr>\n",
       "    <tr>\n",
       "      <th>20156</th>\n",
       "      <td>The Evolution of Black British Music</td>\n",
       "      <td>tv</td>\n",
       "      <td>Documentary, Music</td>\n",
       "      <td>2022</td>\n",
       "      <td>7.3</td>\n",
       "      <td>21</td>\n",
       "      <td>7.3</td>\n",
       "    </tr>\n",
       "  </tbody>\n",
       "</table>\n",
       "<p>18714 rows × 7 columns</p>\n",
       "</div>"
      ],
      "text/plain": [
       "                                       title   type  \\\n",
       "0                          The Fifth Element  movie   \n",
       "1                          Kill Bill: Vol. 1  movie   \n",
       "2                                    Jarhead  movie   \n",
       "3                                 Unforgiven  movie   \n",
       "4      Eternal Sunshine of the Spotless Mind  movie   \n",
       "...                                      ...    ...   \n",
       "20146            This Is the Zodiac Speaking     tv   \n",
       "20147          The Manhattan Alien Abduction     tv   \n",
       "20149           Children of the Church Steps     tv   \n",
       "20152                        Don't Come Home     tv   \n",
       "20156   The Evolution of Black British Music     tv   \n",
       "\n",
       "                          genres  releaseYear  imdbAverageRating  \\\n",
       "0      Action, Adventure, Sci-Fi         1997                7.6   \n",
       "1        Action, Crime, Thriller         2003                8.2   \n",
       "2          Biography, Drama, War         2005                7.0   \n",
       "3                 Drama, Western         1992                8.2   \n",
       "4         Drama, Romance, Sci-Fi         2004                8.3   \n",
       "...                          ...          ...                ...   \n",
       "20146         Crime, Documentary         2024                7.2   \n",
       "20147                Documentary         2024                5.3   \n",
       "20149   Drama, History, Thriller         2024                6.7   \n",
       "20152     Drama, Horror, Mystery         2024                7.2   \n",
       "20156         Documentary, Music         2022                7.3   \n",
       "\n",
       "       imdbNumVotes  perfomance_of_movies  \n",
       "0            518358                   7.6  \n",
       "1           1225520                   8.2  \n",
       "2            212222                   7.0  \n",
       "3            445463                   8.2  \n",
       "4           1109647                   8.3  \n",
       "...             ...                   ...  \n",
       "20146          5288                   7.2  \n",
       "20147          1290                   5.3  \n",
       "20149           318                   6.7  \n",
       "20152          2630                   7.2  \n",
       "20156            21                   7.3  \n",
       "\n",
       "[18714 rows x 7 columns]"
      ]
     },
     "execution_count": 24,
     "metadata": {},
     "output_type": "execute_result"
    }
   ],
   "source": [
    "df1['perfomance_of_movies']=df1['imdbAverageRating']\n",
    "df1"
   ]
  },
  {
   "cell_type": "code",
   "execution_count": 25,
   "id": "b1900851",
   "metadata": {
    "execution": {
     "iopub.execute_input": "2024-12-07T05:38:54.048719Z",
     "iopub.status.busy": "2024-12-07T05:38:54.048326Z",
     "iopub.status.idle": "2024-12-07T05:38:54.072019Z",
     "shell.execute_reply": "2024-12-07T05:38:54.070854Z"
    },
    "id": "XJOkIs20nh93",
    "outputId": "2f336e59-2915-4c45-d7a6-d8cbdbfe66cb",
    "papermill": {
     "duration": 0.044927,
     "end_time": "2024-12-07T05:38:54.074175",
     "exception": false,
     "start_time": "2024-12-07T05:38:54.029248",
     "status": "completed"
    },
    "tags": []
   },
   "outputs": [
    {
     "name": "stdout",
     "output_type": "stream",
     "text": [
      "                                       title   type  \\\n",
      "0                          The Fifth Element  movie   \n",
      "1                          Kill Bill: Vol. 1  movie   \n",
      "2                                    Jarhead  movie   \n",
      "3                                 Unforgiven  movie   \n",
      "4      Eternal Sunshine of the Spotless Mind  movie   \n",
      "...                                      ...    ...   \n",
      "20146            This Is the Zodiac Speaking     tv   \n",
      "20147          The Manhattan Alien Abduction     tv   \n",
      "20149           Children of the Church Steps     tv   \n",
      "20152                        Don't Come Home     tv   \n",
      "20156   The Evolution of Black British Music     tv   \n",
      "\n",
      "                          genres  releaseYear  imdbAverageRating  \\\n",
      "0      Action, Adventure, Sci-Fi         1997                7.6   \n",
      "1        Action, Crime, Thriller         2003                8.2   \n",
      "2          Biography, Drama, War         2005                7.0   \n",
      "3                 Drama, Western         1992                8.2   \n",
      "4         Drama, Romance, Sci-Fi         2004                8.3   \n",
      "...                          ...          ...                ...   \n",
      "20146         Crime, Documentary         2024                7.2   \n",
      "20147                Documentary         2024                5.3   \n",
      "20149   Drama, History, Thriller         2024                6.7   \n",
      "20152     Drama, Horror, Mystery         2024                7.2   \n",
      "20156         Documentary, Music         2022                7.3   \n",
      "\n",
      "       imdbNumVotes perfomance_of_movies  \n",
      "0            518358                  hit  \n",
      "1           1225520                  hit  \n",
      "2            212222                  hit  \n",
      "3            445463                  hit  \n",
      "4           1109647                  hit  \n",
      "...             ...                  ...  \n",
      "20146          5288                  hit  \n",
      "20147          1290              average  \n",
      "20149           318                  hit  \n",
      "20152          2630                  hit  \n",
      "20156            21                  hit  \n",
      "\n",
      "[18714 rows x 7 columns]\n"
     ]
    }
   ],
   "source": [
    "def movie_rating(x):\n",
    "    if not pd.isna(x):  # Check if x is NOT NaN\n",
    "        if x > 8.5:\n",
    "            return 'super hit'\n",
    "        elif 6.5 < x <= 8.5:\n",
    "            return 'hit'\n",
    "        elif 5.0 <= x <= 6.5:\n",
    "            return 'average'\n",
    "        else:\n",
    "            return 'below average'\n",
    "    else:\n",
    "        return 'not rated'  # Handle NaN values\n",
    "\n",
    "df1['perfomance_of_movies'] = df1['imdbAverageRating'].apply(movie_rating)\n",
    "print(df1)"
   ]
  },
  {
   "cell_type": "markdown",
   "id": "a26e6b97",
   "metadata": {
    "id": "aAaEVj1rtFF2",
    "papermill": {
     "duration": 0.017178,
     "end_time": "2024-12-07T05:38:54.108939",
     "exception": false,
     "start_time": "2024-12-07T05:38:54.091761",
     "status": "completed"
    },
    "tags": []
   },
   "source": [
    "# ***Data visualization***"
   ]
  },
  {
   "cell_type": "markdown",
   "id": "a150cc09",
   "metadata": {
    "id": "0WpTub12CiVt",
    "papermill": {
     "duration": 0.017177,
     "end_time": "2024-12-07T05:38:54.143641",
     "exception": false,
     "start_time": "2024-12-07T05:38:54.126464",
     "status": "completed"
    },
    "tags": []
   },
   "source": [
    "**imdbAverageRating**\n",
    "\n"
   ]
  },
  {
   "cell_type": "code",
   "execution_count": 26,
   "id": "86c423c8",
   "metadata": {
    "execution": {
     "iopub.execute_input": "2024-12-07T05:38:54.180192Z",
     "iopub.status.busy": "2024-12-07T05:38:54.179768Z",
     "iopub.status.idle": "2024-12-07T05:38:54.691388Z",
     "shell.execute_reply": "2024-12-07T05:38:54.690316Z"
    },
    "id": "AjosqOkoCkVt",
    "outputId": "280981bf-6e54-4ee8-f0cf-da4e54aa8165",
    "papermill": {
     "duration": 0.532563,
     "end_time": "2024-12-07T05:38:54.693449",
     "exception": false,
     "start_time": "2024-12-07T05:38:54.160886",
     "status": "completed"
    },
    "tags": []
   },
   "outputs": [
    {
     "name": "stderr",
     "output_type": "stream",
     "text": [
      "/opt/conda/lib/python3.10/site-packages/seaborn/_oldcore.py:1119: FutureWarning: use_inf_as_na option is deprecated and will be removed in a future version. Convert inf values to NaN before operating instead.\n",
      "  with pd.option_context('mode.use_inf_as_na', True):\n"
     ]
    },
    {
     "data": {
      "text/plain": [
       "<Axes: xlabel='imdbAverageRating', ylabel='Count'>"
      ]
     },
     "execution_count": 26,
     "metadata": {},
     "output_type": "execute_result"
    },
    {
     "data": {
      "image/png": "[encoded data removed]",
      "text/plain": [
       "<Figure size 640x480 with 1 Axes>"
      ]
     },
     "metadata": {},
     "output_type": "display_data"
    }
   ],
   "source": [
    "sns.histplot(df1['imdbAverageRating'], kde=True)"
   ]
  },
  {
   "cell_type": "markdown",
   "id": "e0d99951",
   "metadata": {
    "id": "UqgKYjuVCxJl",
    "papermill": {
     "duration": 0.018345,
     "end_time": "2024-12-07T05:38:54.730928",
     "exception": false,
     "start_time": "2024-12-07T05:38:54.712583",
     "status": "completed"
    },
    "tags": []
   },
   "source": [
    "**imdbNumVotes**"
   ]
  },
  {
   "cell_type": "code",
   "execution_count": 27,
   "id": "2944f651",
   "metadata": {
    "execution": {
     "iopub.execute_input": "2024-12-07T05:38:54.770294Z",
     "iopub.status.busy": "2024-12-07T05:38:54.769277Z",
     "iopub.status.idle": "2024-12-07T05:39:00.970036Z",
     "shell.execute_reply": "2024-12-07T05:39:00.968658Z"
    },
    "id": "kuttgyZ7C1bN",
    "outputId": "f97ab160-9593-4e8e-f0aa-ba719e411e80",
    "papermill": {
     "duration": 6.223047,
     "end_time": "2024-12-07T05:39:00.972479",
     "exception": false,
     "start_time": "2024-12-07T05:38:54.749432",
     "status": "completed"
    },
    "tags": []
   },
   "outputs": [
    {
     "name": "stderr",
     "output_type": "stream",
     "text": [
      "/opt/conda/lib/python3.10/site-packages/seaborn/_oldcore.py:1119: FutureWarning: use_inf_as_na option is deprecated and will be removed in a future version. Convert inf values to NaN before operating instead.\n",
      "  with pd.option_context('mode.use_inf_as_na', True):\n"
     ]
    },
    {
     "data": {
      "text/plain": [
       "<Axes: xlabel='imdbNumVotes', ylabel='Count'>"
      ]
     },
     "execution_count": 27,
     "metadata": {},
     "output_type": "execute_result"
    },
    {
     "data": {
      "image/png": "[encoded data removed]",
      "text/plain": [
       "<Figure size 640x480 with 1 Axes>"
      ]
     },
     "metadata": {},
     "output_type": "display_data"
    }
   ],
   "source": [
    "sns.histplot(df1['imdbNumVotes'], kde=True)"
   ]
  },
  {
   "cell_type": "code",
   "execution_count": 28,
   "id": "17c2712c",
   "metadata": {
    "execution": {
     "iopub.execute_input": "2024-12-07T05:39:01.012291Z",
     "iopub.status.busy": "2024-12-07T05:39:01.011899Z",
     "iopub.status.idle": "2024-12-07T05:39:01.019293Z",
     "shell.execute_reply": "2024-12-07T05:39:01.018218Z"
    },
    "id": "StxBqA5HDuLM",
    "outputId": "9a12ccab-dc4e-45d8-9c30-e24ca071fcac",
    "papermill": {
     "duration": 0.029477,
     "end_time": "2024-12-07T05:39:01.021187",
     "exception": false,
     "start_time": "2024-12-07T05:39:00.991710",
     "status": "completed"
    },
    "tags": []
   },
   "outputs": [
    {
     "data": {
      "text/plain": [
       "9.559369936025936"
      ]
     },
     "execution_count": 28,
     "metadata": {},
     "output_type": "execute_result"
    }
   ],
   "source": [
    "df1['imdbNumVotes'].skew()"
   ]
  },
  {
   "cell_type": "code",
   "execution_count": 29,
   "id": "edb61c32",
   "metadata": {
    "execution": {
     "iopub.execute_input": "2024-12-07T05:39:01.060446Z",
     "iopub.status.busy": "2024-12-07T05:39:01.060031Z",
     "iopub.status.idle": "2024-12-07T05:39:01.540878Z",
     "shell.execute_reply": "2024-12-07T05:39:01.539343Z"
    },
    "id": "QYBx5XN9EKWE",
    "outputId": "d84df598-50e6-42b4-ab78-0460b3a96e72",
    "papermill": {
     "duration": 0.5031,
     "end_time": "2024-12-07T05:39:01.543082",
     "exception": false,
     "start_time": "2024-12-07T05:39:01.039982",
     "status": "completed"
    },
    "tags": []
   },
   "outputs": [
    {
     "name": "stderr",
     "output_type": "stream",
     "text": [
      "/opt/conda/lib/python3.10/site-packages/seaborn/_oldcore.py:1119: FutureWarning: use_inf_as_na option is deprecated and will be removed in a future version. Convert inf values to NaN before operating instead.\n",
      "  with pd.option_context('mode.use_inf_as_na', True):\n"
     ]
    },
    {
     "data": {
      "text/plain": [
       "<Axes: xlabel='imdbNumVotes', ylabel='Count'>"
      ]
     },
     "execution_count": 29,
     "metadata": {},
     "output_type": "execute_result"
    },
    {
     "data": {
      "image/png": "[encoded data removed]",
      "text/plain": [
       "<Figure size 640x480 with 1 Axes>"
      ]
     },
     "metadata": {},
     "output_type": "display_data"
    }
   ],
   "source": [
    "# Handling skewness of imdbNumVotes\n",
    "df1['imdbNumVotes']=np.log1p(df1['imdbNumVotes'])\n",
    "sns.histplot(df1['imdbNumVotes'], kde=True)"
   ]
  },
  {
   "cell_type": "code",
   "execution_count": 30,
   "id": "ee73ca82",
   "metadata": {
    "execution": {
     "iopub.execute_input": "2024-12-07T05:39:01.585742Z",
     "iopub.status.busy": "2024-12-07T05:39:01.585338Z",
     "iopub.status.idle": "2024-12-07T05:39:01.593717Z",
     "shell.execute_reply": "2024-12-07T05:39:01.592681Z"
    },
    "id": "QKOm2q6LE5Lt",
    "outputId": "dcaac820-4fa7-4a60-8322-24fbcfaaded2",
    "papermill": {
     "duration": 0.03235,
     "end_time": "2024-12-07T05:39:01.595875",
     "exception": false,
     "start_time": "2024-12-07T05:39:01.563525",
     "status": "completed"
    },
    "tags": []
   },
   "outputs": [
    {
     "data": {
      "text/plain": [
       "0.29136315248223754"
      ]
     },
     "execution_count": 30,
     "metadata": {},
     "output_type": "execute_result"
    }
   ],
   "source": [
    "df1['imdbNumVotes'].skew()"
   ]
  },
  {
   "cell_type": "markdown",
   "id": "b6c8fc62",
   "metadata": {
    "id": "TGY1rt2wCSll",
    "papermill": {
     "duration": 0.01953,
     "end_time": "2024-12-07T05:39:01.635742",
     "exception": false,
     "start_time": "2024-12-07T05:39:01.616212",
     "status": "completed"
    },
    "tags": []
   },
   "source": [
    "**releaseYear**"
   ]
  },
  {
   "cell_type": "code",
   "execution_count": 31,
   "id": "5c52e53a",
   "metadata": {
    "execution": {
     "iopub.execute_input": "2024-12-07T05:39:01.678014Z",
     "iopub.status.busy": "2024-12-07T05:39:01.677594Z",
     "iopub.status.idle": "2024-12-07T05:39:02.269657Z",
     "shell.execute_reply": "2024-12-07T05:39:02.268496Z"
    },
    "id": "bn3Snjf6Bvbe",
    "outputId": "1065cd94-ea8d-480f-a5cb-0f6a37ce5197",
    "papermill": {
     "duration": 0.616314,
     "end_time": "2024-12-07T05:39:02.272003",
     "exception": false,
     "start_time": "2024-12-07T05:39:01.655689",
     "status": "completed"
    },
    "tags": []
   },
   "outputs": [
    {
     "name": "stderr",
     "output_type": "stream",
     "text": [
      "/opt/conda/lib/python3.10/site-packages/seaborn/_oldcore.py:1119: FutureWarning: use_inf_as_na option is deprecated and will be removed in a future version. Convert inf values to NaN before operating instead.\n",
      "  with pd.option_context('mode.use_inf_as_na', True):\n"
     ]
    },
    {
     "data": {
      "text/plain": [
       "<Axes: xlabel='releaseYear', ylabel='Count'>"
      ]
     },
     "execution_count": 31,
     "metadata": {},
     "output_type": "execute_result"
    },
    {
     "data": {
      "image/png": "[encoded data removed]",
      "text/plain": [
       "<Figure size 640x480 with 1 Axes>"
      ]
     },
     "metadata": {},
     "output_type": "display_data"
    }
   ],
   "source": [
    "sns.histplot(df1['releaseYear'], kde=True)"
   ]
  },
  {
   "cell_type": "code",
   "execution_count": 32,
   "id": "47c256d4",
   "metadata": {
    "execution": {
     "iopub.execute_input": "2024-12-07T05:39:02.314269Z",
     "iopub.status.busy": "2024-12-07T05:39:02.313875Z",
     "iopub.status.idle": "2024-12-07T05:39:02.321675Z",
     "shell.execute_reply": "2024-12-07T05:39:02.320668Z"
    },
    "id": "___sk3BeDhDt",
    "outputId": "37bb07a4-3bfa-4619-8a43-b4c4bffc8148",
    "papermill": {
     "duration": 0.031301,
     "end_time": "2024-12-07T05:39:02.323683",
     "exception": false,
     "start_time": "2024-12-07T05:39:02.292382",
     "status": "completed"
    },
    "tags": []
   },
   "outputs": [
    {
     "data": {
      "text/plain": [
       "-2.666438988555711"
      ]
     },
     "execution_count": 32,
     "metadata": {},
     "output_type": "execute_result"
    }
   ],
   "source": [
    "df1['releaseYear'].skew()"
   ]
  },
  {
   "cell_type": "code",
   "execution_count": 33,
   "id": "87c68685",
   "metadata": {
    "execution": {
     "iopub.execute_input": "2024-12-07T05:39:02.365636Z",
     "iopub.status.busy": "2024-12-07T05:39:02.365266Z",
     "iopub.status.idle": "2024-12-07T05:39:02.369623Z",
     "shell.execute_reply": "2024-12-07T05:39:02.368496Z"
    },
    "id": "lxFprM9gEThc",
    "papermill": {
     "duration": 0.028034,
     "end_time": "2024-12-07T05:39:02.371869",
     "exception": false,
     "start_time": "2024-12-07T05:39:02.343835",
     "status": "completed"
    },
    "tags": []
   },
   "outputs": [],
   "source": [
    "# df1['releaseYear']=np.log1p(df1['releaseYear'])\n",
    "# sns.histplot(df1['releaseYear'], kde=True)"
   ]
  },
  {
   "cell_type": "code",
   "execution_count": 34,
   "id": "3fe6061a",
   "metadata": {
    "execution": {
     "iopub.execute_input": "2024-12-07T05:39:02.414951Z",
     "iopub.status.busy": "2024-12-07T05:39:02.414502Z",
     "iopub.status.idle": "2024-12-07T05:39:02.421965Z",
     "shell.execute_reply": "2024-12-07T05:39:02.420845Z"
    },
    "id": "YJHBUuLYF16E",
    "outputId": "80a22147-00c5-4b4e-d144-9144f95e4a9e",
    "papermill": {
     "duration": 0.031652,
     "end_time": "2024-12-07T05:39:02.423895",
     "exception": false,
     "start_time": "2024-12-07T05:39:02.392243",
     "status": "completed"
    },
    "tags": []
   },
   "outputs": [
    {
     "data": {
      "text/plain": [
       "-2.666438988555711"
      ]
     },
     "execution_count": 34,
     "metadata": {},
     "output_type": "execute_result"
    }
   ],
   "source": [
    "df1['releaseYear'].skew()"
   ]
  },
  {
   "cell_type": "markdown",
   "id": "57515010",
   "metadata": {
    "id": "7cVOFHT_DMC9",
    "papermill": {
     "duration": 0.020545,
     "end_time": "2024-12-07T05:39:02.465763",
     "exception": false,
     "start_time": "2024-12-07T05:39:02.445218",
     "status": "completed"
    },
    "tags": []
   },
   "source": [
    "**type**"
   ]
  },
  {
   "cell_type": "code",
   "execution_count": 35,
   "id": "d4d4e3e7",
   "metadata": {
    "execution": {
     "iopub.execute_input": "2024-12-07T05:39:02.508021Z",
     "iopub.status.busy": "2024-12-07T05:39:02.507604Z",
     "iopub.status.idle": "2024-12-07T05:39:02.643022Z",
     "shell.execute_reply": "2024-12-07T05:39:02.641904Z"
    },
    "id": "2q_3SAXdtZgX",
    "outputId": "725978bb-8084-451a-f999-2b1862ede8a3",
    "papermill": {
     "duration": 0.159321,
     "end_time": "2024-12-07T05:39:02.645521",
     "exception": false,
     "start_time": "2024-12-07T05:39:02.486200",
     "status": "completed"
    },
    "tags": []
   },
   "outputs": [
    {
     "data": {
      "image/png": "[encoded data removed]",
      "text/plain": [
       "<Figure size 640x480 with 1 Axes>"
      ]
     },
     "metadata": {},
     "output_type": "display_data"
    }
   ],
   "source": [
    "plt.pie(df1['type'].value_counts(),labels=(df1['type'].unique()),autopct='%1.1f%%',colors=['grey','g'])\n",
    "plt.title('Pie chart of type')\n",
    "plt.legend(df1['type'].unique())\n",
    "plt.show()"
   ]
  },
  {
   "cell_type": "markdown",
   "id": "b5b9780c",
   "metadata": {
    "id": "1Radketd71j3",
    "papermill": {
     "duration": 0.020732,
     "end_time": "2024-12-07T05:39:02.687186",
     "exception": false,
     "start_time": "2024-12-07T05:39:02.666454",
     "status": "completed"
    },
    "tags": []
   },
   "source": [
    "* In the column type 70% ofv the values  are movie & 27% are tv"
   ]
  },
  {
   "cell_type": "markdown",
   "id": "e575f67e",
   "metadata": {
    "id": "BFI0XEhkzken",
    "papermill": {
     "duration": 0.020978,
     "end_time": "2024-12-07T05:39:02.729691",
     "exception": false,
     "start_time": "2024-12-07T05:39:02.708713",
     "status": "completed"
    },
    "tags": []
   },
   "source": [
    "perfomance_of_movies"
   ]
  },
  {
   "cell_type": "code",
   "execution_count": 36,
   "id": "0d4bff35",
   "metadata": {
    "execution": {
     "iopub.execute_input": "2024-12-07T05:39:02.773573Z",
     "iopub.status.busy": "2024-12-07T05:39:02.773142Z",
     "iopub.status.idle": "2024-12-07T05:39:02.933588Z",
     "shell.execute_reply": "2024-12-07T05:39:02.932312Z"
    },
    "id": "pMBkl4C6zjSm",
    "outputId": "0a8c7319-dc8c-4114-b959-17cf477960d2",
    "papermill": {
     "duration": 0.187745,
     "end_time": "2024-12-07T05:39:02.938451",
     "exception": false,
     "start_time": "2024-12-07T05:39:02.750706",
     "status": "completed"
    },
    "tags": []
   },
   "outputs": [
    {
     "data": {
      "image/png": "[encoded data removed]",
      "text/plain": [
       "<Figure size 640x480 with 1 Axes>"
      ]
     },
     "metadata": {},
     "output_type": "display_data"
    }
   ],
   "source": [
    "plt.pie(df1['perfomance_of_movies'].value_counts(),labels=(df1['perfomance_of_movies'].unique()),autopct='%1.1f%%')\n",
    "plt.title('Pie chart of perfomance_of_movies')\n",
    "plt.legend(df1['perfomance_of_movies'].unique())\n",
    "plt.show()"
   ]
  },
  {
   "cell_type": "markdown",
   "id": "11ce13a7",
   "metadata": {
    "id": "8yD-tCZO8U8t",
    "papermill": {
     "duration": 0.023178,
     "end_time": "2024-12-07T05:39:03.024330",
     "exception": false,
     "start_time": "2024-12-07T05:39:03.001152",
     "status": "completed"
    },
    "tags": []
   },
   "source": [
    "* In the column perfomance_of_movies we can understand 49% of the movies or tv series are super hit , 42.1% are hit ,7.6% are average & 1.2% are below average."
   ]
  },
  {
   "cell_type": "markdown",
   "id": "86dc18fc",
   "metadata": {
    "id": "x8LSimAKH8sr",
    "papermill": {
     "duration": 0.020865,
     "end_time": "2024-12-07T05:39:03.066475",
     "exception": false,
     "start_time": "2024-12-07T05:39:03.045610",
     "status": "completed"
    },
    "tags": []
   },
   "source": [
    "# Encoding"
   ]
  },
  {
   "cell_type": "markdown",
   "id": "3083180c",
   "metadata": {
    "id": "0sqirj4bKv_6",
    "papermill": {
     "duration": 0.021037,
     "end_time": "2024-12-07T05:39:03.108755",
     "exception": false,
     "start_time": "2024-12-07T05:39:03.087718",
     "status": "completed"
    },
    "tags": []
   },
   "source": [
    "**Encode the column 'type' with replace method.**"
   ]
  },
  {
   "cell_type": "code",
   "execution_count": 37,
   "id": "e6b640a9",
   "metadata": {
    "execution": {
     "iopub.execute_input": "2024-12-07T05:39:03.153106Z",
     "iopub.status.busy": "2024-12-07T05:39:03.152691Z",
     "iopub.status.idle": "2024-12-07T05:39:03.161038Z",
     "shell.execute_reply": "2024-12-07T05:39:03.159878Z"
    },
    "id": "02EAX-I0IAzj",
    "outputId": "0226086f-67f0-4054-d184-7304f8a6bce8",
    "papermill": {
     "duration": 0.033124,
     "end_time": "2024-12-07T05:39:03.163183",
     "exception": false,
     "start_time": "2024-12-07T05:39:03.130059",
     "status": "completed"
    },
    "tags": []
   },
   "outputs": [
    {
     "data": {
      "text/plain": [
       "array(['movie', 'tv'], dtype=object)"
      ]
     },
     "execution_count": 37,
     "metadata": {},
     "output_type": "execute_result"
    }
   ],
   "source": [
    "df1['type'].unique()"
   ]
  },
  {
   "cell_type": "code",
   "execution_count": 38,
   "id": "34739a40",
   "metadata": {
    "execution": {
     "iopub.execute_input": "2024-12-07T05:39:03.208451Z",
     "iopub.status.busy": "2024-12-07T05:39:03.208057Z",
     "iopub.status.idle": "2024-12-07T05:39:03.233856Z",
     "shell.execute_reply": "2024-12-07T05:39:03.232746Z"
    },
    "id": "F9_WSGO3JGui",
    "outputId": "b95a97ee-389a-45f1-ea73-621f9ab7b94b",
    "papermill": {
     "duration": 0.052138,
     "end_time": "2024-12-07T05:39:03.236788",
     "exception": false,
     "start_time": "2024-12-07T05:39:03.184650",
     "status": "completed"
    },
    "tags": []
   },
   "outputs": [
    {
     "name": "stderr",
     "output_type": "stream",
     "text": [
      "/tmp/ipykernel_17/2585881093.py:3: FutureWarning: A value is trying to be set on a copy of a DataFrame or Series through chained assignment using an inplace method.\n",
      "The behavior will change in pandas 3.0. This inplace method will never work because the intermediate object on which we are setting values always behaves as a copy.\n",
      "\n",
      "For example, when doing 'df[col].method(value, inplace=True)', try using 'df.method({col: value}, inplace=True)' or df[col] = df[col].method(value) instead, to perform the operation inplace on the original object.\n",
      "\n",
      "\n",
      "  df1['type'].replace(['movie', 'tv'],[0,1],inplace=True)\n",
      "/tmp/ipykernel_17/2585881093.py:3: FutureWarning: Downcasting behavior in `replace` is deprecated and will be removed in a future version. To retain the old behavior, explicitly call `result.infer_objects(copy=False)`. To opt-in to the future behavior, set `pd.set_option('future.no_silent_downcasting', True)`\n",
      "  df1['type'].replace(['movie', 'tv'],[0,1],inplace=True)\n"
     ]
    },
    {
     "data": {
      "text/html": [
       "<div>\n",
       "<style scoped>\n",
       "    .dataframe tbody tr th:only-of-type {\n",
       "        vertical-align: middle;\n",
       "    }\n",
       "\n",
       "    .dataframe tbody tr th {\n",
       "        vertical-align: top;\n",
       "    }\n",
       "\n",
       "    .dataframe thead th {\n",
       "        text-align: right;\n",
       "    }\n",
       "</style>\n",
       "<table border=\"1\" class=\"dataframe\">\n",
       "  <thead>\n",
       "    <tr style=\"text-align: right;\">\n",
       "      <th></th>\n",
       "      <th>title</th>\n",
       "      <th>type</th>\n",
       "      <th>genres</th>\n",
       "      <th>releaseYear</th>\n",
       "      <th>imdbAverageRating</th>\n",
       "      <th>imdbNumVotes</th>\n",
       "      <th>perfomance_of_movies</th>\n",
       "    </tr>\n",
       "  </thead>\n",
       "  <tbody>\n",
       "    <tr>\n",
       "      <th>0</th>\n",
       "      <td>The Fifth Element</td>\n",
       "      <td>0</td>\n",
       "      <td>Action, Adventure, Sci-Fi</td>\n",
       "      <td>1997</td>\n",
       "      <td>7.6</td>\n",
       "      <td>13.158423</td>\n",
       "      <td>hit</td>\n",
       "    </tr>\n",
       "    <tr>\n",
       "      <th>1</th>\n",
       "      <td>Kill Bill: Vol. 1</td>\n",
       "      <td>0</td>\n",
       "      <td>Action, Crime, Thriller</td>\n",
       "      <td>2003</td>\n",
       "      <td>8.2</td>\n",
       "      <td>14.018877</td>\n",
       "      <td>hit</td>\n",
       "    </tr>\n",
       "    <tr>\n",
       "      <th>2</th>\n",
       "      <td>Jarhead</td>\n",
       "      <td>0</td>\n",
       "      <td>Biography, Drama, War</td>\n",
       "      <td>2005</td>\n",
       "      <td>7.0</td>\n",
       "      <td>12.265393</td>\n",
       "      <td>hit</td>\n",
       "    </tr>\n",
       "    <tr>\n",
       "      <th>3</th>\n",
       "      <td>Unforgiven</td>\n",
       "      <td>0</td>\n",
       "      <td>Drama, Western</td>\n",
       "      <td>1992</td>\n",
       "      <td>8.2</td>\n",
       "      <td>13.006872</td>\n",
       "      <td>hit</td>\n",
       "    </tr>\n",
       "    <tr>\n",
       "      <th>4</th>\n",
       "      <td>Eternal Sunshine of the Spotless Mind</td>\n",
       "      <td>0</td>\n",
       "      <td>Drama, Romance, Sci-Fi</td>\n",
       "      <td>2004</td>\n",
       "      <td>8.3</td>\n",
       "      <td>13.919553</td>\n",
       "      <td>hit</td>\n",
       "    </tr>\n",
       "    <tr>\n",
       "      <th>...</th>\n",
       "      <td>...</td>\n",
       "      <td>...</td>\n",
       "      <td>...</td>\n",
       "      <td>...</td>\n",
       "      <td>...</td>\n",
       "      <td>...</td>\n",
       "      <td>...</td>\n",
       "    </tr>\n",
       "    <tr>\n",
       "      <th>20146</th>\n",
       "      <td>This Is the Zodiac Speaking</td>\n",
       "      <td>1</td>\n",
       "      <td>Crime, Documentary</td>\n",
       "      <td>2024</td>\n",
       "      <td>7.2</td>\n",
       "      <td>8.573384</td>\n",
       "      <td>hit</td>\n",
       "    </tr>\n",
       "    <tr>\n",
       "      <th>20147</th>\n",
       "      <td>The Manhattan Alien Abduction</td>\n",
       "      <td>1</td>\n",
       "      <td>Documentary</td>\n",
       "      <td>2024</td>\n",
       "      <td>5.3</td>\n",
       "      <td>7.163172</td>\n",
       "      <td>average</td>\n",
       "    </tr>\n",
       "    <tr>\n",
       "      <th>20149</th>\n",
       "      <td>Children of the Church Steps</td>\n",
       "      <td>1</td>\n",
       "      <td>Drama, History, Thriller</td>\n",
       "      <td>2024</td>\n",
       "      <td>6.7</td>\n",
       "      <td>5.765191</td>\n",
       "      <td>hit</td>\n",
       "    </tr>\n",
       "    <tr>\n",
       "      <th>20152</th>\n",
       "      <td>Don't Come Home</td>\n",
       "      <td>1</td>\n",
       "      <td>Drama, Horror, Mystery</td>\n",
       "      <td>2024</td>\n",
       "      <td>7.2</td>\n",
       "      <td>7.875119</td>\n",
       "      <td>hit</td>\n",
       "    </tr>\n",
       "    <tr>\n",
       "      <th>20156</th>\n",
       "      <td>The Evolution of Black British Music</td>\n",
       "      <td>1</td>\n",
       "      <td>Documentary, Music</td>\n",
       "      <td>2022</td>\n",
       "      <td>7.3</td>\n",
       "      <td>3.091042</td>\n",
       "      <td>hit</td>\n",
       "    </tr>\n",
       "  </tbody>\n",
       "</table>\n",
       "<p>18714 rows × 7 columns</p>\n",
       "</div>"
      ],
      "text/plain": [
       "                                       title  type                     genres  \\\n",
       "0                          The Fifth Element     0  Action, Adventure, Sci-Fi   \n",
       "1                          Kill Bill: Vol. 1     0    Action, Crime, Thriller   \n",
       "2                                    Jarhead     0      Biography, Drama, War   \n",
       "3                                 Unforgiven     0             Drama, Western   \n",
       "4      Eternal Sunshine of the Spotless Mind     0     Drama, Romance, Sci-Fi   \n",
       "...                                      ...   ...                        ...   \n",
       "20146            This Is the Zodiac Speaking     1         Crime, Documentary   \n",
       "20147          The Manhattan Alien Abduction     1                Documentary   \n",
       "20149           Children of the Church Steps     1   Drama, History, Thriller   \n",
       "20152                        Don't Come Home     1     Drama, Horror, Mystery   \n",
       "20156   The Evolution of Black British Music     1         Documentary, Music   \n",
       "\n",
       "       releaseYear  imdbAverageRating  imdbNumVotes perfomance_of_movies  \n",
       "0             1997                7.6     13.158423                  hit  \n",
       "1             2003                8.2     14.018877                  hit  \n",
       "2             2005                7.0     12.265393                  hit  \n",
       "3             1992                8.2     13.006872                  hit  \n",
       "4             2004                8.3     13.919553                  hit  \n",
       "...            ...                ...           ...                  ...  \n",
       "20146         2024                7.2      8.573384                  hit  \n",
       "20147         2024                5.3      7.163172              average  \n",
       "20149         2024                6.7      5.765191                  hit  \n",
       "20152         2024                7.2      7.875119                  hit  \n",
       "20156         2022                7.3      3.091042                  hit  \n",
       "\n",
       "[18714 rows x 7 columns]"
      ]
     },
     "execution_count": 38,
     "metadata": {},
     "output_type": "execute_result"
    }
   ],
   "source": [
    "# Column type has only 2 unique values\n",
    "# so use replace methode for encoding\n",
    "df1['type'].replace(['movie', 'tv'],[0,1],inplace=True)\n",
    "df1"
   ]
  },
  {
   "cell_type": "markdown",
   "id": "be5d7762",
   "metadata": {
    "id": "L-QJQkLpKyoa",
    "papermill": {
     "duration": 0.021729,
     "end_time": "2024-12-07T05:39:03.281013",
     "exception": false,
     "start_time": "2024-12-07T05:39:03.259284",
     "status": "completed"
    },
    "tags": []
   },
   "source": [
    "**Encode the columns title & genres using label encoder**"
   ]
  },
  {
   "cell_type": "code",
   "execution_count": 39,
   "id": "442602d9",
   "metadata": {
    "execution": {
     "iopub.execute_input": "2024-12-07T05:39:03.327991Z",
     "iopub.status.busy": "2024-12-07T05:39:03.327035Z",
     "iopub.status.idle": "2024-12-07T05:39:03.386034Z",
     "shell.execute_reply": "2024-12-07T05:39:03.384836Z"
    },
    "id": "wbH3ju6vKSyC",
    "outputId": "09b921ca-14f0-4910-a2ef-02063ed9cc74",
    "papermill": {
     "duration": 0.084474,
     "end_time": "2024-12-07T05:39:03.388222",
     "exception": false,
     "start_time": "2024-12-07T05:39:03.303748",
     "status": "completed"
    },
    "tags": []
   },
   "outputs": [
    {
     "data": {
      "text/html": [
       "<div>\n",
       "<style scoped>\n",
       "    .dataframe tbody tr th:only-of-type {\n",
       "        vertical-align: middle;\n",
       "    }\n",
       "\n",
       "    .dataframe tbody tr th {\n",
       "        vertical-align: top;\n",
       "    }\n",
       "\n",
       "    .dataframe thead th {\n",
       "        text-align: right;\n",
       "    }\n",
       "</style>\n",
       "<table border=\"1\" class=\"dataframe\">\n",
       "  <thead>\n",
       "    <tr style=\"text-align: right;\">\n",
       "      <th></th>\n",
       "      <th>title</th>\n",
       "      <th>type</th>\n",
       "      <th>genres</th>\n",
       "      <th>releaseYear</th>\n",
       "      <th>imdbAverageRating</th>\n",
       "      <th>imdbNumVotes</th>\n",
       "      <th>perfomance_of_movies</th>\n",
       "    </tr>\n",
       "  </thead>\n",
       "  <tbody>\n",
       "    <tr>\n",
       "      <th>0</th>\n",
       "      <td>14472</td>\n",
       "      <td>0</td>\n",
       "      <td>15</td>\n",
       "      <td>1997</td>\n",
       "      <td>7.6</td>\n",
       "      <td>13.158423</td>\n",
       "      <td>2</td>\n",
       "    </tr>\n",
       "    <tr>\n",
       "      <th>1</th>\n",
       "      <td>7541</td>\n",
       "      <td>0</td>\n",
       "      <td>59</td>\n",
       "      <td>2003</td>\n",
       "      <td>8.2</td>\n",
       "      <td>14.018877</td>\n",
       "      <td>2</td>\n",
       "    </tr>\n",
       "    <tr>\n",
       "      <th>2</th>\n",
       "      <td>7073</td>\n",
       "      <td>0</td>\n",
       "      <td>282</td>\n",
       "      <td>2005</td>\n",
       "      <td>7.0</td>\n",
       "      <td>12.265393</td>\n",
       "      <td>2</td>\n",
       "    </tr>\n",
       "    <tr>\n",
       "      <th>3</th>\n",
       "      <td>17016</td>\n",
       "      <td>0</td>\n",
       "      <td>562</td>\n",
       "      <td>1992</td>\n",
       "      <td>8.2</td>\n",
       "      <td>13.006872</td>\n",
       "      <td>2</td>\n",
       "    </tr>\n",
       "    <tr>\n",
       "      <th>4</th>\n",
       "      <td>4539</td>\n",
       "      <td>0</td>\n",
       "      <td>543</td>\n",
       "      <td>2004</td>\n",
       "      <td>8.3</td>\n",
       "      <td>13.919553</td>\n",
       "      <td>2</td>\n",
       "    </tr>\n",
       "    <tr>\n",
       "      <th>...</th>\n",
       "      <td>...</td>\n",
       "      <td>...</td>\n",
       "      <td>...</td>\n",
       "      <td>...</td>\n",
       "      <td>...</td>\n",
       "      <td>...</td>\n",
       "      <td>...</td>\n",
       "    </tr>\n",
       "    <tr>\n",
       "      <th>20146</th>\n",
       "      <td>16365</td>\n",
       "      <td>1</td>\n",
       "      <td>397</td>\n",
       "      <td>2024</td>\n",
       "      <td>7.2</td>\n",
       "      <td>8.573384</td>\n",
       "      <td>2</td>\n",
       "    </tr>\n",
       "    <tr>\n",
       "      <th>20147</th>\n",
       "      <td>15197</td>\n",
       "      <td>1</td>\n",
       "      <td>438</td>\n",
       "      <td>2024</td>\n",
       "      <td>5.3</td>\n",
       "      <td>7.163172</td>\n",
       "      <td>0</td>\n",
       "    </tr>\n",
       "    <tr>\n",
       "      <th>20149</th>\n",
       "      <td>2858</td>\n",
       "      <td>1</td>\n",
       "      <td>514</td>\n",
       "      <td>2024</td>\n",
       "      <td>6.7</td>\n",
       "      <td>5.765191</td>\n",
       "      <td>2</td>\n",
       "    </tr>\n",
       "    <tr>\n",
       "      <th>20152</th>\n",
       "      <td>3989</td>\n",
       "      <td>1</td>\n",
       "      <td>520</td>\n",
       "      <td>2024</td>\n",
       "      <td>7.2</td>\n",
       "      <td>7.875119</td>\n",
       "      <td>2</td>\n",
       "    </tr>\n",
       "    <tr>\n",
       "      <th>20156</th>\n",
       "      <td>14414</td>\n",
       "      <td>1</td>\n",
       "      <td>465</td>\n",
       "      <td>2022</td>\n",
       "      <td>7.3</td>\n",
       "      <td>3.091042</td>\n",
       "      <td>2</td>\n",
       "    </tr>\n",
       "  </tbody>\n",
       "</table>\n",
       "<p>18714 rows × 7 columns</p>\n",
       "</div>"
      ],
      "text/plain": [
       "       title  type  genres  releaseYear  imdbAverageRating  imdbNumVotes  \\\n",
       "0      14472     0      15         1997                7.6     13.158423   \n",
       "1       7541     0      59         2003                8.2     14.018877   \n",
       "2       7073     0     282         2005                7.0     12.265393   \n",
       "3      17016     0     562         1992                8.2     13.006872   \n",
       "4       4539     0     543         2004                8.3     13.919553   \n",
       "...      ...   ...     ...          ...                ...           ...   \n",
       "20146  16365     1     397         2024                7.2      8.573384   \n",
       "20147  15197     1     438         2024                5.3      7.163172   \n",
       "20149   2858     1     514         2024                6.7      5.765191   \n",
       "20152   3989     1     520         2024                7.2      7.875119   \n",
       "20156  14414     1     465         2022                7.3      3.091042   \n",
       "\n",
       "       perfomance_of_movies  \n",
       "0                         2  \n",
       "1                         2  \n",
       "2                         2  \n",
       "3                         2  \n",
       "4                         2  \n",
       "...                     ...  \n",
       "20146                     2  \n",
       "20147                     0  \n",
       "20149                     2  \n",
       "20152                     2  \n",
       "20156                     2  \n",
       "\n",
       "[18714 rows x 7 columns]"
      ]
     },
     "execution_count": 39,
     "metadata": {},
     "output_type": "execute_result"
    }
   ],
   "source": [
    "# Encoding columns title and genres with label encoding\n",
    "df1['title']=le.fit_transform(df1['title'])\n",
    "df1['genres']=le.fit_transform(df1['genres'])\n",
    "df1['perfomance_of_movies']=le.fit_transform(df1['perfomance_of_movies'])#change it to int\n",
    "df1"
   ]
  },
  {
   "cell_type": "code",
   "execution_count": 40,
   "id": "bdbba052",
   "metadata": {
    "execution": {
     "iopub.execute_input": "2024-12-07T05:39:03.434395Z",
     "iopub.status.busy": "2024-12-07T05:39:03.434044Z",
     "iopub.status.idle": "2024-12-07T05:39:03.446376Z",
     "shell.execute_reply": "2024-12-07T05:39:03.445112Z"
    },
    "id": "LRBb8pbhNjjq",
    "outputId": "28055e55-46ac-44ec-f1d1-34fd9b2916b3",
    "papermill": {
     "duration": 0.037784,
     "end_time": "2024-12-07T05:39:03.448515",
     "exception": false,
     "start_time": "2024-12-07T05:39:03.410731",
     "status": "completed"
    },
    "tags": []
   },
   "outputs": [
    {
     "name": "stdout",
     "output_type": "stream",
     "text": [
      "<class 'pandas.core.frame.DataFrame'>\n",
      "Index: 18714 entries, 0 to 20156\n",
      "Data columns (total 7 columns):\n",
      " #   Column                Non-Null Count  Dtype  \n",
      "---  ------                --------------  -----  \n",
      " 0   title                 18714 non-null  int64  \n",
      " 1   type                  18714 non-null  int64  \n",
      " 2   genres                18714 non-null  int64  \n",
      " 3   releaseYear           18714 non-null  int64  \n",
      " 4   imdbAverageRating     18714 non-null  float64\n",
      " 5   imdbNumVotes          18714 non-null  float64\n",
      " 6   perfomance_of_movies  18714 non-null  int64  \n",
      "dtypes: float64(2), int64(5)\n",
      "memory usage: 1.1 MB\n"
     ]
    }
   ],
   "source": [
    "df1.info()"
   ]
  },
  {
   "cell_type": "markdown",
   "id": "c7e3907a",
   "metadata": {
    "id": "QVMrEf_9rWBY",
    "papermill": {
     "duration": 0.02148,
     "end_time": "2024-12-07T05:39:03.492220",
     "exception": false,
     "start_time": "2024-12-07T05:39:03.470740",
     "status": "completed"
    },
    "tags": []
   },
   "source": [
    "* Now all variables are numeric."
   ]
  },
  {
   "cell_type": "markdown",
   "id": "a4b626d9",
   "metadata": {
    "id": "q--4x6i54xFV",
    "papermill": {
     "duration": 0.023205,
     "end_time": "2024-12-07T05:39:03.537392",
     "exception": false,
     "start_time": "2024-12-07T05:39:03.514187",
     "status": "completed"
    },
    "tags": []
   },
   "source": [
    "# Correlation Analysis:"
   ]
  },
  {
   "cell_type": "code",
   "execution_count": 41,
   "id": "e9e2c187",
   "metadata": {
    "execution": {
     "iopub.execute_input": "2024-12-07T05:39:03.583366Z",
     "iopub.status.busy": "2024-12-07T05:39:03.582983Z",
     "iopub.status.idle": "2024-12-07T05:39:03.600984Z",
     "shell.execute_reply": "2024-12-07T05:39:03.599880Z"
    },
    "id": "EysBDlHY5v3V",
    "outputId": "fb5cb1de-13b2-46fa-916b-6eaf99425bdc",
    "papermill": {
     "duration": 0.043858,
     "end_time": "2024-12-07T05:39:03.603385",
     "exception": false,
     "start_time": "2024-12-07T05:39:03.559527",
     "status": "completed"
    },
    "tags": []
   },
   "outputs": [
    {
     "data": {
      "text/html": [
       "<div>\n",
       "<style scoped>\n",
       "    .dataframe tbody tr th:only-of-type {\n",
       "        vertical-align: middle;\n",
       "    }\n",
       "\n",
       "    .dataframe tbody tr th {\n",
       "        vertical-align: top;\n",
       "    }\n",
       "\n",
       "    .dataframe thead th {\n",
       "        text-align: right;\n",
       "    }\n",
       "</style>\n",
       "<table border=\"1\" class=\"dataframe\">\n",
       "  <thead>\n",
       "    <tr style=\"text-align: right;\">\n",
       "      <th></th>\n",
       "      <th>title</th>\n",
       "      <th>type</th>\n",
       "      <th>genres</th>\n",
       "      <th>releaseYear</th>\n",
       "      <th>imdbAverageRating</th>\n",
       "      <th>imdbNumVotes</th>\n",
       "      <th>perfomance_of_movies</th>\n",
       "    </tr>\n",
       "  </thead>\n",
       "  <tbody>\n",
       "    <tr>\n",
       "      <th>title</th>\n",
       "      <td>1.000000</td>\n",
       "      <td>0.002709</td>\n",
       "      <td>0.001072</td>\n",
       "      <td>-0.033864</td>\n",
       "      <td>0.014599</td>\n",
       "      <td>0.039279</td>\n",
       "      <td>-0.002888</td>\n",
       "    </tr>\n",
       "    <tr>\n",
       "      <th>type</th>\n",
       "      <td>0.002709</td>\n",
       "      <td>1.000000</td>\n",
       "      <td>0.003720</td>\n",
       "      <td>0.204707</td>\n",
       "      <td>0.313699</td>\n",
       "      <td>-0.040840</td>\n",
       "      <td>0.256920</td>\n",
       "    </tr>\n",
       "    <tr>\n",
       "      <th>genres</th>\n",
       "      <td>0.001072</td>\n",
       "      <td>0.003720</td>\n",
       "      <td>1.000000</td>\n",
       "      <td>0.001904</td>\n",
       "      <td>-0.012487</td>\n",
       "      <td>-0.198065</td>\n",
       "      <td>-0.007147</td>\n",
       "    </tr>\n",
       "    <tr>\n",
       "      <th>releaseYear</th>\n",
       "      <td>-0.033864</td>\n",
       "      <td>0.204707</td>\n",
       "      <td>0.001904</td>\n",
       "      <td>1.000000</td>\n",
       "      <td>-0.028123</td>\n",
       "      <td>-0.016041</td>\n",
       "      <td>0.014090</td>\n",
       "    </tr>\n",
       "    <tr>\n",
       "      <th>imdbAverageRating</th>\n",
       "      <td>0.014599</td>\n",
       "      <td>0.313699</td>\n",
       "      <td>-0.012487</td>\n",
       "      <td>-0.028123</td>\n",
       "      <td>1.000000</td>\n",
       "      <td>0.239747</td>\n",
       "      <td>0.623181</td>\n",
       "    </tr>\n",
       "    <tr>\n",
       "      <th>imdbNumVotes</th>\n",
       "      <td>0.039279</td>\n",
       "      <td>-0.040840</td>\n",
       "      <td>-0.198065</td>\n",
       "      <td>-0.016041</td>\n",
       "      <td>0.239747</td>\n",
       "      <td>1.000000</td>\n",
       "      <td>0.162104</td>\n",
       "    </tr>\n",
       "    <tr>\n",
       "      <th>perfomance_of_movies</th>\n",
       "      <td>-0.002888</td>\n",
       "      <td>0.256920</td>\n",
       "      <td>-0.007147</td>\n",
       "      <td>0.014090</td>\n",
       "      <td>0.623181</td>\n",
       "      <td>0.162104</td>\n",
       "      <td>1.000000</td>\n",
       "    </tr>\n",
       "  </tbody>\n",
       "</table>\n",
       "</div>"
      ],
      "text/plain": [
       "                         title      type    genres  releaseYear  \\\n",
       "title                 1.000000  0.002709  0.001072    -0.033864   \n",
       "type                  0.002709  1.000000  0.003720     0.204707   \n",
       "genres                0.001072  0.003720  1.000000     0.001904   \n",
       "releaseYear          -0.033864  0.204707  0.001904     1.000000   \n",
       "imdbAverageRating     0.014599  0.313699 -0.012487    -0.028123   \n",
       "imdbNumVotes          0.039279 -0.040840 -0.198065    -0.016041   \n",
       "perfomance_of_movies -0.002888  0.256920 -0.007147     0.014090   \n",
       "\n",
       "                      imdbAverageRating  imdbNumVotes  perfomance_of_movies  \n",
       "title                          0.014599      0.039279             -0.002888  \n",
       "type                           0.313699     -0.040840              0.256920  \n",
       "genres                        -0.012487     -0.198065             -0.007147  \n",
       "releaseYear                   -0.028123     -0.016041              0.014090  \n",
       "imdbAverageRating              1.000000      0.239747              0.623181  \n",
       "imdbNumVotes                   0.239747      1.000000              0.162104  \n",
       "perfomance_of_movies           0.623181      0.162104              1.000000  "
      ]
     },
     "execution_count": 41,
     "metadata": {},
     "output_type": "execute_result"
    }
   ],
   "source": [
    "c=df1.corr()\n",
    "c"
   ]
  },
  {
   "cell_type": "code",
   "execution_count": 42,
   "id": "44564dc8",
   "metadata": {
    "execution": {
     "iopub.execute_input": "2024-12-07T05:39:03.650390Z",
     "iopub.status.busy": "2024-12-07T05:39:03.650005Z",
     "iopub.status.idle": "2024-12-07T05:39:04.108479Z",
     "shell.execute_reply": "2024-12-07T05:39:04.107301Z"
    },
    "id": "QR7PdzNh5AZN",
    "outputId": "e026b275-881e-4af8-fe9b-79d5c5d2aa2c",
    "papermill": {
     "duration": 0.485114,
     "end_time": "2024-12-07T05:39:04.111705",
     "exception": false,
     "start_time": "2024-12-07T05:39:03.626591",
     "status": "completed"
    },
    "tags": []
   },
   "outputs": [
    {
     "data": {
      "image/png": "[encoded data removed]",
      "text/plain": [
       "<Figure size 1200x800 with 2 Axes>"
      ]
     },
     "metadata": {},
     "output_type": "display_data"
    }
   ],
   "source": [
    "plt.figure(figsize=(12,8))\n",
    "sns.heatmap(c,annot=True,cmap='Greens')\n",
    "plt.title('Correlation heatmap')\n",
    "plt.show()"
   ]
  },
  {
   "cell_type": "code",
   "execution_count": 43,
   "id": "8dffbc01",
   "metadata": {
    "execution": {
     "iopub.execute_input": "2024-12-07T05:39:04.162390Z",
     "iopub.status.busy": "2024-12-07T05:39:04.161997Z",
     "iopub.status.idle": "2024-12-07T05:39:04.175259Z",
     "shell.execute_reply": "2024-12-07T05:39:04.174142Z"
    },
    "id": "Bbg6OZ1v4z08",
    "outputId": "718de7a2-c7b2-440e-fdce-f3109087f684",
    "papermill": {
     "duration": 0.041244,
     "end_time": "2024-12-07T05:39:04.177449",
     "exception": false,
     "start_time": "2024-12-07T05:39:04.136205",
     "status": "completed"
    },
    "tags": []
   },
   "outputs": [
    {
     "data": {
      "text/plain": [
       "imdbAverageRating       1.000000\n",
       "perfomance_of_movies    0.623181\n",
       "type                    0.313699\n",
       "imdbNumVotes            0.239747\n",
       "title                   0.014599\n",
       "genres                 -0.012487\n",
       "releaseYear            -0.028123\n",
       "Name: imdbAverageRating, dtype: float64"
      ]
     },
     "execution_count": 43,
     "metadata": {},
     "output_type": "execute_result"
    }
   ],
   "source": [
    "s=df1.corr()['imdbAverageRating']\n",
    "s.sort_values(ascending=False)"
   ]
  },
  {
   "cell_type": "markdown",
   "id": "c481d114",
   "metadata": {
    "id": "92Mk5mJ2PnIb",
    "papermill": {
     "duration": 0.023709,
     "end_time": "2024-12-07T05:39:04.225084",
     "exception": false,
     "start_time": "2024-12-07T05:39:04.201375",
     "status": "completed"
    },
    "tags": []
   },
   "source": [
    "# Feature Selection"
   ]
  },
  {
   "cell_type": "code",
   "execution_count": 44,
   "id": "ee38dae9",
   "metadata": {
    "execution": {
     "iopub.execute_input": "2024-12-07T05:39:04.276231Z",
     "iopub.status.busy": "2024-12-07T05:39:04.275821Z",
     "iopub.status.idle": "2024-12-07T05:39:04.283209Z",
     "shell.execute_reply": "2024-12-07T05:39:04.282048Z"
    },
    "id": "0WRzWQGuWuTv",
    "papermill": {
     "duration": 0.034771,
     "end_time": "2024-12-07T05:39:04.285421",
     "exception": false,
     "start_time": "2024-12-07T05:39:04.250650",
     "status": "completed"
    },
    "tags": []
   },
   "outputs": [],
   "source": [
    "x=df1[['title','type','genres','releaseYear','imdbNumVotes','perfomance_of_movies']]\n",
    "y=df1['imdbAverageRating']"
   ]
  },
  {
   "cell_type": "markdown",
   "id": "076b983b",
   "metadata": {
    "id": "DZKU-09bRF2R",
    "papermill": {
     "duration": 0.023654,
     "end_time": "2024-12-07T05:39:04.332933",
     "exception": false,
     "start_time": "2024-12-07T05:39:04.309279",
     "status": "completed"
    },
    "tags": []
   },
   "source": [
    "# Data Splitting"
   ]
  },
  {
   "cell_type": "code",
   "execution_count": 45,
   "id": "f83bab57",
   "metadata": {
    "execution": {
     "iopub.execute_input": "2024-12-07T05:39:04.382187Z",
     "iopub.status.busy": "2024-12-07T05:39:04.381732Z",
     "iopub.status.idle": "2024-12-07T05:39:04.392959Z",
     "shell.execute_reply": "2024-12-07T05:39:04.391896Z"
    },
    "id": "TJAyBNryPr5R",
    "papermill": {
     "duration": 0.038205,
     "end_time": "2024-12-07T05:39:04.395235",
     "exception": false,
     "start_time": "2024-12-07T05:39:04.357030",
     "status": "completed"
    },
    "tags": []
   },
   "outputs": [],
   "source": [
    "x_train, x_test, y_train, y_test = train_test_split(x, y, test_size=0.2, random_state=12)"
   ]
  },
  {
   "cell_type": "markdown",
   "id": "66ef8360",
   "metadata": {
    "id": "uS7Rcyc1-HVT",
    "papermill": {
     "duration": 0.024339,
     "end_time": "2024-12-07T05:39:04.444290",
     "exception": false,
     "start_time": "2024-12-07T05:39:04.419951",
     "status": "completed"
    },
    "tags": []
   },
   "source": [
    "# Data Scaling"
   ]
  },
  {
   "cell_type": "code",
   "execution_count": 46,
   "id": "0478e5b8",
   "metadata": {
    "execution": {
     "iopub.execute_input": "2024-12-07T05:39:04.493448Z",
     "iopub.status.busy": "2024-12-07T05:39:04.493024Z",
     "iopub.status.idle": "2024-12-07T05:39:04.497972Z",
     "shell.execute_reply": "2024-12-07T05:39:04.496746Z"
    },
    "id": "HxADkAl3Y_dt",
    "papermill": {
     "duration": 0.031757,
     "end_time": "2024-12-07T05:39:04.500001",
     "exception": false,
     "start_time": "2024-12-07T05:39:04.468244",
     "status": "completed"
    },
    "tags": []
   },
   "outputs": [],
   "source": [
    "# x_train and x_test scaled with StandardScaler"
   ]
  },
  {
   "cell_type": "code",
   "execution_count": 47,
   "id": "1e2e8011",
   "metadata": {
    "execution": {
     "iopub.execute_input": "2024-12-07T05:39:04.568855Z",
     "iopub.status.busy": "2024-12-07T05:39:04.568425Z",
     "iopub.status.idle": "2024-12-07T05:39:04.583059Z",
     "shell.execute_reply": "2024-12-07T05:39:04.581682Z"
    },
    "id": "yldK40kg9yNy",
    "papermill": {
     "duration": 0.057696,
     "end_time": "2024-12-07T05:39:04.586196",
     "exception": false,
     "start_time": "2024-12-07T05:39:04.528500",
     "status": "completed"
    },
    "tags": []
   },
   "outputs": [],
   "source": [
    "scaler = StandardScaler()\n",
    "x_train_scaled = scaler.fit_transform(x_train)\n",
    "x_test_scaled = scaler.transform(x_test)"
   ]
  },
  {
   "cell_type": "markdown",
   "id": "d53677ee",
   "metadata": {
    "id": "kz0p4gI-_xXq",
    "papermill": {
     "duration": 0.023787,
     "end_time": "2024-12-07T05:39:04.638756",
     "exception": false,
     "start_time": "2024-12-07T05:39:04.614969",
     "status": "completed"
    },
    "tags": []
   },
   "source": [
    "# Initial Modeling & Hypothesis Testing"
   ]
  },
  {
   "cell_type": "code",
   "execution_count": 48,
   "id": "263a83f6",
   "metadata": {
    "execution": {
     "iopub.execute_input": "2024-12-07T05:39:04.689424Z",
     "iopub.status.busy": "2024-12-07T05:39:04.688735Z",
     "iopub.status.idle": "2024-12-07T05:39:04.696786Z",
     "shell.execute_reply": "2024-12-07T05:39:04.695598Z"
    },
    "id": "pi6iAiLM-r_K",
    "papermill": {
     "duration": 0.036718,
     "end_time": "2024-12-07T05:39:04.699429",
     "exception": false,
     "start_time": "2024-12-07T05:39:04.662711",
     "status": "completed"
    },
    "tags": []
   },
   "outputs": [],
   "source": [
    "# List of linear regression models to apply\n",
    "models = {\n",
    "    \"Linear Regression\": LinearRegression(),\n",
    "    \"Ridge Regression\": Ridge(),\n",
    "    \"Lasso Regression\": Lasso(),\n",
    "    \"ElasticNet Regression\": ElasticNet(),\n",
    "    \"Decision Tree\": DecisionTreeRegressor(),\n",
    "    \"Random Forest\": RandomForestRegressor(),\n",
    "    \"Gradient Boosting\": GradientBoostingRegressor(),\n",
    "    \"Support Vector Regressor\": SVR(),\n",
    "    \"K-Nearest Neighbors\": KNeighborsRegressor(),\n",
    "    \"Neural Network\": MLPRegressor(max_iter=1000)\n",
    "}"
   ]
  },
  {
   "cell_type": "code",
   "execution_count": 49,
   "id": "cf9494b7",
   "metadata": {
    "execution": {
     "iopub.execute_input": "2024-12-07T05:39:04.756107Z",
     "iopub.status.busy": "2024-12-07T05:39:04.755609Z",
     "iopub.status.idle": "2024-12-07T05:39:04.762071Z",
     "shell.execute_reply": "2024-12-07T05:39:04.761103Z"
    },
    "id": "JEVN_uKK_zvx",
    "papermill": {
     "duration": 0.039563,
     "end_time": "2024-12-07T05:39:04.764438",
     "exception": false,
     "start_time": "2024-12-07T05:39:04.724875",
     "status": "completed"
    },
    "tags": []
   },
   "outputs": [],
   "source": [
    "# Function to evaluate model performance\n",
    "def evaluate_model(y_true, y_pred):\n",
    "    mae = mean_absolute_error(y_true, y_pred)\n",
    "    rmse = np.sqrt(mean_squared_error(y_true, y_pred))\n",
    "    r2 = r2_score(y_true, y_pred)\n",
    "    return mae, rmse, r2"
   ]
  },
  {
   "cell_type": "code",
   "execution_count": 50,
   "id": "38867cd4",
   "metadata": {
    "execution": {
     "iopub.execute_input": "2024-12-07T05:39:04.816002Z",
     "iopub.status.busy": "2024-12-07T05:39:04.815583Z",
     "iopub.status.idle": "2024-12-07T05:39:04.821887Z",
     "shell.execute_reply": "2024-12-07T05:39:04.820700Z"
    },
    "id": "BDzW0bFG_50B",
    "papermill": {
     "duration": 0.035048,
     "end_time": "2024-12-07T05:39:04.824822",
     "exception": false,
     "start_time": "2024-12-07T05:39:04.789774",
     "status": "completed"
    },
    "tags": []
   },
   "outputs": [],
   "source": [
    "# Dictionary to store the results\n",
    "results = {}"
   ]
  },
  {
   "cell_type": "code",
   "execution_count": 51,
   "id": "b83255dd",
   "metadata": {
    "execution": {
     "iopub.execute_input": "2024-12-07T05:39:04.900203Z",
     "iopub.status.busy": "2024-12-07T05:39:04.899780Z",
     "iopub.status.idle": "2024-12-07T05:39:36.061459Z",
     "shell.execute_reply": "2024-12-07T05:39:36.059999Z"
    },
    "id": "REc3GGVt_80B",
    "papermill": {
     "duration": 31.198648,
     "end_time": "2024-12-07T05:39:36.066120",
     "exception": false,
     "start_time": "2024-12-07T05:39:04.867472",
     "status": "completed"
    },
    "tags": []
   },
   "outputs": [],
   "source": [
    "for name, model in models.items(): # When you call items() on a dictionary, returns a list of the dictionary’s key-value tuple pairs.\n",
    "                                   # Here \"name\" represents the \"key\", and \"model\" represents the \"value\"\n",
    "  if name in [\"Support Vector Regressor\", \"Neural Network\"]: # Standardised value is only applied to support vector regressor and Neural network\n",
    "        # Apply scaling for models that need it\n",
    "        model.fit(x_train_scaled, y_train)\n",
    "        y_pred = model.predict(x_test_scaled)\n",
    "  else:\n",
    "        model.fit(x_train, y_train)\n",
    "        y_pred = model.predict(x_test)\n",
    "\n",
    "        # Compute evaluation metrics\n",
    "  mae, rmse, r2 = evaluate_model(y_test, y_pred)\n",
    "  results[name] = {\"MAE\": mae, \"RMSE\": rmse, \"R²\": r2}"
   ]
  },
  {
   "cell_type": "code",
   "execution_count": 52,
   "id": "6aa394f4",
   "metadata": {
    "execution": {
     "iopub.execute_input": "2024-12-07T05:39:36.190839Z",
     "iopub.status.busy": "2024-12-07T05:39:36.190439Z",
     "iopub.status.idle": "2024-12-07T05:39:36.199855Z",
     "shell.execute_reply": "2024-12-07T05:39:36.198720Z"
    },
    "id": "i-9KZT7tALnp",
    "outputId": "07fe5e2f-b965-427c-b021-bfb024ba23ea",
    "papermill": {
     "duration": 0.064761,
     "end_time": "2024-12-07T05:39:36.202174",
     "exception": false,
     "start_time": "2024-12-07T05:39:36.137413",
     "status": "completed"
    },
    "tags": []
   },
   "outputs": [
    {
     "name": "stdout",
     "output_type": "stream",
     "text": [
      "                               MAE      RMSE        R²\n",
      "Linear Regression         0.566163  0.821175  0.434066\n",
      "Ridge Regression          0.566159  0.821174  0.434068\n",
      "Lasso Regression          0.844704  1.091347  0.000416\n",
      "ElasticNet Regression     0.757375  1.021870  0.123635\n",
      "Decision Tree             0.486348  0.632422  0.664334\n",
      "Random Forest             0.374754  0.465722  0.817969\n",
      "Gradient Boosting         0.367756  0.449717  0.830264\n",
      "Support Vector Regressor  0.374474  0.479609  0.806951\n",
      "K-Nearest Neighbors       0.889591  1.145644 -0.101521\n",
      "Neural Network            0.370559  0.458490  0.823578\n"
     ]
    }
   ],
   "source": [
    "# Convert results to a DataFrame for better visualization\n",
    "results_df1= pd.DataFrame(results).T\n",
    "print(results_df1)"
   ]
  },
  {
   "cell_type": "markdown",
   "id": "3d4b68c0",
   "metadata": {
    "id": "v5L-0CHlbT4j",
    "papermill": {
     "duration": 0.023482,
     "end_time": "2024-12-07T05:39:36.249186",
     "exception": false,
     "start_time": "2024-12-07T05:39:36.225704",
     "status": "completed"
    },
    "tags": []
   },
   "source": [
    "**The best performing model is: Gradient Boosting**"
   ]
  },
  {
   "cell_type": "markdown",
   "id": "322ac7ab",
   "metadata": {
    "id": "hYG5Nfy-bYmz",
    "papermill": {
     "duration": 0.023525,
     "end_time": "2024-12-07T05:39:36.296578",
     "exception": false,
     "start_time": "2024-12-07T05:39:36.273053",
     "status": "completed"
    },
    "tags": []
   },
   "source": [
    "# Model"
   ]
  },
  {
   "cell_type": "code",
   "execution_count": 53,
   "id": "d1fe831c",
   "metadata": {
    "execution": {
     "iopub.execute_input": "2024-12-07T05:39:36.345851Z",
     "iopub.status.busy": "2024-12-07T05:39:36.345318Z",
     "iopub.status.idle": "2024-12-07T05:39:38.175614Z",
     "shell.execute_reply": "2024-12-07T05:39:38.174365Z"
    },
    "id": "g5PYx4CQGYTX",
    "outputId": "11c46a7b-c188-4d18-8c3e-6b6d1ad94224",
    "papermill": {
     "duration": 1.857462,
     "end_time": "2024-12-07T05:39:38.177820",
     "exception": false,
     "start_time": "2024-12-07T05:39:36.320358",
     "status": "completed"
    },
    "tags": []
   },
   "outputs": [
    {
     "data": {
      "text/html": [
       "<style>#sk-container-id-1 {color: black;background-color: white;}#sk-container-id-1 pre{padding: 0;}#sk-container-id-1 div.sk-toggleable {background-color: white;}#sk-container-id-1 label.sk-toggleable__label {cursor: pointer;display: block;width: 100%;margin-bottom: 0;padding: 0.3em;box-sizing: border-box;text-align: center;}#sk-container-id-1 label.sk-toggleable__label-arrow:before {content: \"▸\";float: left;margin-right: 0.25em;color: #696969;}#sk-container-id-1 label.sk-toggleable__label-arrow:hover:before {color: black;}#sk-container-id-1 div.sk-estimator:hover label.sk-toggleable__label-arrow:before {color: black;}#sk-container-id-1 div.sk-toggleable__content {max-height: 0;max-width: 0;overflow: hidden;text-align: left;background-color: #f0f8ff;}#sk-container-id-1 div.sk-toggleable__content pre {margin: 0.2em;color: black;border-radius: 0.25em;background-color: #f0f8ff;}#sk-container-id-1 input.sk-toggleable__control:checked~div.sk-toggleable__content {max-height: 200px;max-width: 100%;overflow: auto;}#sk-container-id-1 input.sk-toggleable__control:checked~label.sk-toggleable__label-arrow:before {content: \"▾\";}#sk-container-id-1 div.sk-estimator input.sk-toggleable__control:checked~label.sk-toggleable__label {background-color: #d4ebff;}#sk-container-id-1 div.sk-label input.sk-toggleable__control:checked~label.sk-toggleable__label {background-color: #d4ebff;}#sk-container-id-1 input.sk-hidden--visually {border: 0;clip: rect(1px 1px 1px 1px);clip: rect(1px, 1px, 1px, 1px);height: 1px;margin: -1px;overflow: hidden;padding: 0;position: absolute;width: 1px;}#sk-container-id-1 div.sk-estimator {font-family: monospace;background-color: #f0f8ff;border: 1px dotted black;border-radius: 0.25em;box-sizing: border-box;margin-bottom: 0.5em;}#sk-container-id-1 div.sk-estimator:hover {background-color: #d4ebff;}#sk-container-id-1 div.sk-parallel-item::after {content: \"\";width: 100%;border-bottom: 1px solid gray;flex-grow: 1;}#sk-container-id-1 div.sk-label:hover label.sk-toggleable__label {background-color: #d4ebff;}#sk-container-id-1 div.sk-serial::before {content: \"\";position: absolute;border-left: 1px solid gray;box-sizing: border-box;top: 0;bottom: 0;left: 50%;z-index: 0;}#sk-container-id-1 div.sk-serial {display: flex;flex-direction: column;align-items: center;background-color: white;padding-right: 0.2em;padding-left: 0.2em;position: relative;}#sk-container-id-1 div.sk-item {position: relative;z-index: 1;}#sk-container-id-1 div.sk-parallel {display: flex;align-items: stretch;justify-content: center;background-color: white;position: relative;}#sk-container-id-1 div.sk-item::before, #sk-container-id-1 div.sk-parallel-item::before {content: \"\";position: absolute;border-left: 1px solid gray;box-sizing: border-box;top: 0;bottom: 0;left: 50%;z-index: -1;}#sk-container-id-1 div.sk-parallel-item {display: flex;flex-direction: column;z-index: 1;position: relative;background-color: white;}#sk-container-id-1 div.sk-parallel-item:first-child::after {align-self: flex-end;width: 50%;}#sk-container-id-1 div.sk-parallel-item:last-child::after {align-self: flex-start;width: 50%;}#sk-container-id-1 div.sk-parallel-item:only-child::after {width: 0;}#sk-container-id-1 div.sk-dashed-wrapped {border: 1px dashed gray;margin: 0 0.4em 0.5em 0.4em;box-sizing: border-box;padding-bottom: 0.4em;background-color: white;}#sk-container-id-1 div.sk-label label {font-family: monospace;font-weight: bold;display: inline-block;line-height: 1.2em;}#sk-container-id-1 div.sk-label-container {text-align: center;}#sk-container-id-1 div.sk-container {/* jupyter's `normalize.less` sets `[hidden] { display: none; }` but bootstrap.min.css set `[hidden] { display: none !important; }` so we also need the `!important` here to be able to override the default hidden behavior on the sphinx rendered scikit-learn.org. See: https://github.com/scikit-learn/scikit-learn/issues/21755 */display: inline-block !important;position: relative;}#sk-container-id-1 div.sk-text-repr-fallback {display: none;}</style><div id=\"sk-container-id-1\" class=\"sk-top-container\"><div class=\"sk-text-repr-fallback\"><pre>GradientBoostingRegressor()</pre><b>In a Jupyter environment, please rerun this cell to show the HTML representation or trust the notebook. <br />On GitHub, the HTML representation is unable to render, please try loading this page with nbviewer.org.</b></div><div class=\"sk-container\" hidden><div class=\"sk-item\"><div class=\"sk-estimator sk-toggleable\"><input class=\"sk-toggleable__control sk-hidden--visually\" id=\"sk-estimator-id-1\" type=\"checkbox\" checked><label for=\"sk-estimator-id-1\" class=\"sk-toggleable__label sk-toggleable__label-arrow\">GradientBoostingRegressor</label><div class=\"sk-toggleable__content\"><pre>GradientBoostingRegressor()</pre></div></div></div></div></div>"
      ],
      "text/plain": [
       "GradientBoostingRegressor()"
      ]
     },
     "execution_count": 53,
     "metadata": {},
     "output_type": "execute_result"
    }
   ],
   "source": [
    "model= GradientBoostingRegressor()\n",
    "model.fit(x_train,y_train)"
   ]
  },
  {
   "cell_type": "code",
   "execution_count": 54,
   "id": "dc65054e",
   "metadata": {
    "execution": {
     "iopub.execute_input": "2024-12-07T05:39:38.227119Z",
     "iopub.status.busy": "2024-12-07T05:39:38.226728Z",
     "iopub.status.idle": "2024-12-07T05:39:38.243090Z",
     "shell.execute_reply": "2024-12-07T05:39:38.241704Z"
    },
    "id": "rf8CqSKqIsmW",
    "outputId": "209fee09-e808-446c-ba44-3c49d82c0412",
    "papermill": {
     "duration": 0.043712,
     "end_time": "2024-12-07T05:39:38.245249",
     "exception": false,
     "start_time": "2024-12-07T05:39:38.201537",
     "status": "completed"
    },
    "tags": []
   },
   "outputs": [
    {
     "name": "stdout",
     "output_type": "stream",
     "text": [
      "0.8302642544893192\n"
     ]
    }
   ],
   "source": [
    "y_pred=model.predict(x_test)\n",
    "accuracy=r2_score(y_test,y_pred)\n",
    "print(accuracy)"
   ]
  },
  {
   "cell_type": "code",
   "execution_count": 55,
   "id": "95b6329e",
   "metadata": {
    "execution": {
     "iopub.execute_input": "2024-12-07T05:39:38.295383Z",
     "iopub.status.busy": "2024-12-07T05:39:38.294635Z",
     "iopub.status.idle": "2024-12-07T05:39:38.303062Z",
     "shell.execute_reply": "2024-12-07T05:39:38.301864Z"
    },
    "id": "pcARVVHGI-lG",
    "outputId": "284e7920-8edf-48a1-e8a4-ceff773f29b3",
    "papermill": {
     "duration": 0.036175,
     "end_time": "2024-12-07T05:39:38.305273",
     "exception": false,
     "start_time": "2024-12-07T05:39:38.269098",
     "status": "completed"
    },
    "tags": []
   },
   "outputs": [
    {
     "name": "stdout",
     "output_type": "stream",
     "text": [
      "Mean Absolute Error: 0.3677561762656595\n",
      "Mean Squared Error: 0.20224582207562225\n",
      "Root Mean Squared Error: 0.44971749140501777\n"
     ]
    }
   ],
   "source": [
    "# Calculate evaluation metrics\n",
    "mae = mean_absolute_error(y_test, y_pred)\n",
    "mse = mean_squared_error(y_test, y_pred)\n",
    "rmse = np.sqrt(mse)\n",
    "\n",
    "print(f'Mean Absolute Error: {mae}')\n",
    "print(f'Mean Squared Error: {mse}')\n",
    "print(f'Root Mean Squared Error: {rmse}')"
   ]
  },
  {
   "cell_type": "markdown",
   "id": "19df2fdd",
   "metadata": {
    "id": "LP046hdNjLSn",
    "papermill": {
     "duration": 0.023865,
     "end_time": "2024-12-07T05:39:38.353202",
     "exception": false,
     "start_time": "2024-12-07T05:39:38.329337",
     "status": "completed"
    },
    "tags": []
   },
   "source": [
    "# Prediction"
   ]
  },
  {
   "cell_type": "code",
   "execution_count": 56,
   "id": "779163c9",
   "metadata": {
    "execution": {
     "iopub.execute_input": "2024-12-07T05:39:38.403191Z",
     "iopub.status.busy": "2024-12-07T05:39:38.402334Z",
     "iopub.status.idle": "2024-12-07T05:39:38.414893Z",
     "shell.execute_reply": "2024-12-07T05:39:38.413890Z"
    },
    "id": "A8PvmMEJ-Zbk",
    "outputId": "87169e5e-3e32-45b2-e661-81f0b99e4bba",
    "papermill": {
     "duration": 0.039829,
     "end_time": "2024-12-07T05:39:38.416908",
     "exception": false,
     "start_time": "2024-12-07T05:39:38.377079",
     "status": "completed"
    },
    "tags": []
   },
   "outputs": [
    {
     "data": {
      "text/html": [
       "<div>\n",
       "<style scoped>\n",
       "    .dataframe tbody tr th:only-of-type {\n",
       "        vertical-align: middle;\n",
       "    }\n",
       "\n",
       "    .dataframe tbody tr th {\n",
       "        vertical-align: top;\n",
       "    }\n",
       "\n",
       "    .dataframe thead th {\n",
       "        text-align: right;\n",
       "    }\n",
       "</style>\n",
       "<table border=\"1\" class=\"dataframe\">\n",
       "  <thead>\n",
       "    <tr style=\"text-align: right;\">\n",
       "      <th></th>\n",
       "      <th>title</th>\n",
       "      <th>type</th>\n",
       "      <th>genres</th>\n",
       "      <th>releaseYear</th>\n",
       "      <th>imdbNumVotes</th>\n",
       "      <th>perfomance_of_movies</th>\n",
       "    </tr>\n",
       "  </thead>\n",
       "  <tbody>\n",
       "    <tr>\n",
       "      <th>5063</th>\n",
       "      <td>2783</td>\n",
       "      <td>0</td>\n",
       "      <td>125</td>\n",
       "      <td>2014</td>\n",
       "      <td>12.380228</td>\n",
       "      <td>2</td>\n",
       "    </tr>\n",
       "    <tr>\n",
       "      <th>9401</th>\n",
       "      <td>3500</td>\n",
       "      <td>0</td>\n",
       "      <td>275</td>\n",
       "      <td>2019</td>\n",
       "      <td>11.623760</td>\n",
       "      <td>2</td>\n",
       "    </tr>\n",
       "    <tr>\n",
       "      <th>18897</th>\n",
       "      <td>9789</td>\n",
       "      <td>1</td>\n",
       "      <td>213</td>\n",
       "      <td>2023</td>\n",
       "      <td>8.626406</td>\n",
       "      <td>2</td>\n",
       "    </tr>\n",
       "    <tr>\n",
       "      <th>8610</th>\n",
       "      <td>8295</td>\n",
       "      <td>0</td>\n",
       "      <td>613</td>\n",
       "      <td>2018</td>\n",
       "      <td>7.229114</td>\n",
       "      <td>0</td>\n",
       "    </tr>\n",
       "    <tr>\n",
       "      <th>3585</th>\n",
       "      <td>8680</td>\n",
       "      <td>0</td>\n",
       "      <td>483</td>\n",
       "      <td>2010</td>\n",
       "      <td>6.336826</td>\n",
       "      <td>2</td>\n",
       "    </tr>\n",
       "    <tr>\n",
       "      <th>...</th>\n",
       "      <td>...</td>\n",
       "      <td>...</td>\n",
       "      <td>...</td>\n",
       "      <td>...</td>\n",
       "      <td>...</td>\n",
       "      <td>...</td>\n",
       "    </tr>\n",
       "    <tr>\n",
       "      <th>18247</th>\n",
       "      <td>17359</td>\n",
       "      <td>1</td>\n",
       "      <td>641</td>\n",
       "      <td>2021</td>\n",
       "      <td>3.178054</td>\n",
       "      <td>2</td>\n",
       "    </tr>\n",
       "    <tr>\n",
       "      <th>2748</th>\n",
       "      <td>12806</td>\n",
       "      <td>0</td>\n",
       "      <td>74</td>\n",
       "      <td>2013</td>\n",
       "      <td>11.447661</td>\n",
       "      <td>0</td>\n",
       "    </tr>\n",
       "    <tr>\n",
       "      <th>17090</th>\n",
       "      <td>3553</td>\n",
       "      <td>1</td>\n",
       "      <td>4</td>\n",
       "      <td>2019</td>\n",
       "      <td>10.099424</td>\n",
       "      <td>2</td>\n",
       "    </tr>\n",
       "    <tr>\n",
       "      <th>7406</th>\n",
       "      <td>16827</td>\n",
       "      <td>0</td>\n",
       "      <td>380</td>\n",
       "      <td>2016</td>\n",
       "      <td>3.761200</td>\n",
       "      <td>1</td>\n",
       "    </tr>\n",
       "    <tr>\n",
       "      <th>11595</th>\n",
       "      <td>3411</td>\n",
       "      <td>0</td>\n",
       "      <td>314</td>\n",
       "      <td>2020</td>\n",
       "      <td>7.098376</td>\n",
       "      <td>0</td>\n",
       "    </tr>\n",
       "  </tbody>\n",
       "</table>\n",
       "<p>3743 rows × 6 columns</p>\n",
       "</div>"
      ],
      "text/plain": [
       "       title  type  genres  releaseYear  imdbNumVotes  perfomance_of_movies\n",
       "5063    2783     0     125         2014     12.380228                     2\n",
       "9401    3500     0     275         2019     11.623760                     2\n",
       "18897   9789     1     213         2023      8.626406                     2\n",
       "8610    8295     0     613         2018      7.229114                     0\n",
       "3585    8680     0     483         2010      6.336826                     2\n",
       "...      ...   ...     ...          ...           ...                   ...\n",
       "18247  17359     1     641         2021      3.178054                     2\n",
       "2748   12806     0      74         2013     11.447661                     0\n",
       "17090   3553     1       4         2019     10.099424                     2\n",
       "7406   16827     0     380         2016      3.761200                     1\n",
       "11595   3411     0     314         2020      7.098376                     0\n",
       "\n",
       "[3743 rows x 6 columns]"
      ]
     },
     "execution_count": 56,
     "metadata": {},
     "output_type": "execute_result"
    }
   ],
   "source": [
    "x_test"
   ]
  },
  {
   "cell_type": "code",
   "execution_count": 57,
   "id": "b1860eb2",
   "metadata": {
    "execution": {
     "iopub.execute_input": "2024-12-07T05:39:38.467668Z",
     "iopub.status.busy": "2024-12-07T05:39:38.467289Z",
     "iopub.status.idle": "2024-12-07T05:39:38.475821Z",
     "shell.execute_reply": "2024-12-07T05:39:38.474875Z"
    },
    "id": "LSiAOdOHTvni",
    "outputId": "e4db4ff1-293e-4f01-a897-bb8b28d38c77",
    "papermill": {
     "duration": 0.036055,
     "end_time": "2024-12-07T05:39:38.477848",
     "exception": false,
     "start_time": "2024-12-07T05:39:38.441793",
     "status": "completed"
    },
    "tags": []
   },
   "outputs": [
    {
     "data": {
      "text/plain": [
       "5063     7.3\n",
       "9401     7.6\n",
       "18897    7.7\n",
       "8610     6.2\n",
       "3585     6.7\n",
       "        ... \n",
       "18247    7.1\n",
       "2748     6.4\n",
       "17090    6.7\n",
       "7406     4.7\n",
       "11595    5.8\n",
       "Name: imdbAverageRating, Length: 3743, dtype: float64"
      ]
     },
     "execution_count": 57,
     "metadata": {},
     "output_type": "execute_result"
    }
   ],
   "source": [
    "y_test"
   ]
  },
  {
   "cell_type": "code",
   "execution_count": 58,
   "id": "47e77d29",
   "metadata": {
    "execution": {
     "iopub.execute_input": "2024-12-07T05:39:38.527714Z",
     "iopub.status.busy": "2024-12-07T05:39:38.527336Z",
     "iopub.status.idle": "2024-12-07T05:39:38.536785Z",
     "shell.execute_reply": "2024-12-07T05:39:38.535500Z"
    },
    "id": "G8E8bvfYTtNL",
    "outputId": "ebf5d719-5930-48ca-cca6-b747afebaf76",
    "papermill": {
     "duration": 0.037182,
     "end_time": "2024-12-07T05:39:38.539250",
     "exception": false,
     "start_time": "2024-12-07T05:39:38.502068",
     "status": "completed"
    },
    "tags": []
   },
   "outputs": [
    {
     "name": "stdout",
     "output_type": "stream",
     "text": [
      "[5.90533207]\n"
     ]
    },
    {
     "name": "stderr",
     "output_type": "stream",
     "text": [
      "/opt/conda/lib/python3.10/site-packages/sklearn/base.py:439: UserWarning: X does not have valid feature names, but GradientBoostingRegressor was fitted with feature names\n",
      "  warnings.warn(\n"
     ]
    }
   ],
   "source": [
    "input_data=(870,\t0\t,519,\t2010,\t4.644391,\t0)\n",
    "\n",
    "input_data_as_numpy_array=np.asarray(input_data)\n",
    "\n",
    "input_data_reshaped=input_data_as_numpy_array.reshape(1,-1)\n",
    "\n",
    "# std_data= scaler.transform(input_data_reshaped)\n",
    "\n",
    "prediction=model.predict(input_data_reshaped)\n",
    "\n",
    "print(prediction)"
   ]
  },
  {
   "cell_type": "markdown",
   "id": "316c484a",
   "metadata": {
    "id": "W8q1hOJHcJ3M",
    "papermill": {
     "duration": 0.024123,
     "end_time": "2024-12-07T05:39:38.588435",
     "exception": false,
     "start_time": "2024-12-07T05:39:38.564312",
     "status": "completed"
    },
    "tags": []
   },
   "source": [
    "#**Documentation and Reporting**\n",
    "\n",
    "\n",
    "## Netflix Movies & TV Series Project Report\n",
    "**1.Libraries:**\n",
    "- import required Libraries.\n",
    "\n",
    "**2. Problem Statement:**\n",
    "- This dataset provides a comprehensive collection of all Movies and TV Series available on Netflix.\n",
    "The primary objective is to build a model that accurately predicts the imdbAverageRating of a Movies or TV Series based on its features.\n",
    "\n",
    "**3. Data Understanding:**\n",
    "- The dataset has 15860 rows and 8 columns.\n",
    "- Features include: title , type    , genres    , releaseYear   , imdbId ,  imdbAverageRating   , imdbNumVotes and availableCountries.\n",
    "- Target Variable: imdbAverageRating.\n",
    "\n",
    "**4. Data Cleaning:**\n",
    "- 82 duplicated rows where found.\n",
    "- duplicated rows removed.\n",
    "- Missing values were found in 'title' , 'genres' , 'releaseYear' , 'imdbId' , 'imdbAverageRating' and 'imdbNumVotes' columns.\n",
    "- Missing values were handled by droping rows where have null values.\n",
    "- Droped the column availableCountries.\n",
    "- Droped the column imdbId.\n",
    "- Changed dtype of releaseYear and imdbNumVotes from float into int.\n",
    "\n",
    "**5.Feature Engineering:**\n",
    "- Created new column named 'perfomance_of_movies'.\n",
    "\n",
    "**6. Data Visualization:**\n",
    "- Histogram were created for entire dataset to understand their distribution.\n",
    "- Histograms were created for imdbAverageRating, imdbNumVotes and releaseYear to understand their distributions.\n",
    "- Pie chart created for type & perfomance_of_movies to understand their percent for each value.\n",
    "- Skewness of imdbNumVotes handled using log1p method.\n",
    "\n",
    "**7. Encoding:**\n",
    "- Encode the column type with replace method.\n",
    "- Encode columns title , genres & perfomance_of_movies with label encoding.\n",
    "\n",
    "**8. Correlation Analysis:**\n",
    "- Correlation Analysis: a heatmap of the correlation matrix revealed the relationships between the variables.\n",
    "\n",
    "**9. Feature Selection:**\n",
    "* Target column stored in y variable.\n",
    "* Other features stored in x variable.\n",
    "\n",
    "**10. Data Splitting:**\n",
    "* split x_train, x_test, y_train and y_test.\n",
    "\n",
    "**11. Data Scaling:**\n",
    "- x_train and x_test were scaled using StandardScaler.\n",
    "\n",
    "**12. Initial Modeling & Hypothesis Testing:**\n",
    "\n",
    "-- Multiple regression models were tested:-\n",
    "* Linear Regression.\n",
    "* Ridge Regression.\n",
    "* Lasso Regression.\n",
    "* ElasticNet Regression.\n",
    "* Decision Tree Regression.\n",
    "* Random Forest Regression.\n",
    "* Gradient Boosting Regression.\n",
    "* Support Vector Regression.\n",
    "* K-Nearest Neighbors Regression.\n",
    "* Neural Network Regression.\n",
    "\n",
    "-- Gradient Boosting has given the best result with accuracy around 0.8209663293999218 .And it was chosen as the final model.\n",
    "\n",
    "**13.Model:**\n",
    "\n",
    "-- Evaluation metrics included Mean Absolute Error (MAE), Root Mean Squared Error (RMSE), and R-squared (R2).\n",
    "- Mean Absolute Error: 0.3604838207057812\n",
    "- Mean Squared Error: 0.19709931073655568\n",
    "- Root Mean Squared Error: 0.44395868133932875\n",
    "- R2-squared: 0.820966\n",
    "\n",
    "**13.Prediction:**\n",
    "* Predicte the Model.\n",
    "\n",
    "**THANK YOU**"
   ]
  },
  {
   "cell_type": "code",
   "execution_count": null,
   "id": "82a29f03",
   "metadata": {
    "id": "dg_nHL-ajacn",
    "papermill": {
     "duration": 0.023725,
     "end_time": "2024-12-07T05:39:38.636238",
     "exception": false,
     "start_time": "2024-12-07T05:39:38.612513",
     "status": "completed"
    },
    "tags": []
   },
   "outputs": [],
   "source": []
  }
 ],
 "metadata": {
  "colab": {
   "provenance": []
  },
  "kaggle": {
   "accelerator": "none",
   "dataSources": [
    {
     "datasetId": 5889785,
     "sourceId": 10107683,
     "sourceType": "datasetVersion"
    }
   ],
   "dockerImageVersionId": 30804,
   "isGpuEnabled": false,
   "isInternetEnabled": false,
   "language": "python",
   "sourceType": "notebook"
  },
  "kernelspec": {
   "display_name": "Python 3",
   "language": "python",
   "name": "python3"
  },
  "language_info": {
   "codemirror_mode": {
    "name": "ipython",
    "version": 3
   },
   "file_extension": ".py",
   "mimetype": "text/x-python",
   "name": "python",
   "nbconvert_exporter": "python",
   "pygments_lexer": "ipython3",
   "version": "3.10.14"
  },
  "papermill": {
   "default_parameters": {},
   "duration": 54.005273,
   "end_time": "2024-12-07T05:39:39.885214",
   "environment_variables": {},
   "exception": null,
   "input_path": "__notebook__.ipynb",
   "output_path": "__notebook__.ipynb",
   "parameters": {},
   "start_time": "2024-12-07T05:38:45.879941",
   "version": "2.6.0"
  }
 },
 "nbformat": 4,
 "nbformat_minor": 5
}
